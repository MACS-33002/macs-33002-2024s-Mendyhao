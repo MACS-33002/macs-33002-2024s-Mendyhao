{
 "cells": [
  {
   "cell_type": "markdown",
   "metadata": {
    "id": "ApJ-Ca_N7hkH"
   },
   "source": [
    "# Case study with linear models (10pts)\n",
    "# Motivation\n",
    "Modeling the sale price of a home could be valuable for multiple reasons: \n",
    "- To a real estate investor, understanding the future value of a property can guide purchasing strategies. \n",
    "- To a home buyer, a model could help inform them which house, in a set of potential purchases, is reasonably priced. \n",
    "- From the perspective of a governing entity, understanding the determinants of sales price can inform policy that seeks to create affordable housing or highlight and respond to volatility in housing markets.\n",
    "\n",
    "# Overview\n",
    "In this assignment, we will apply linear regression, polynomial regression, and\n",
    "regularization techniques to predict the sale price of houses. The [dataset](https://www.kaggle.com/competitions/house-prices-advanced-regression-techniques/data) we use contains a rich set of features: 79 explanatory variables describing various  aspects of residential homes in Ames, Iowa.\n",
    "\n",
    "\n",
    "# Goals\n",
    "\n",
    "1) Predict the sales price of a home using a real-world dataset\n",
    "\n",
    "2) Use regularization to avoid overfitting and improve model performance \n",
    "\n",
    "3) Explain how machine learning help us better understand variation in housing prices\n"
   ]
  },
  {
   "cell_type": "code",
   "execution_count": 127,
   "metadata": {
    "colab": {
     "base_uri": "https://localhost:8080/",
     "height": 70
    },
    "executionInfo": {
     "elapsed": 19510,
     "status": "ok",
     "timestamp": 1700341511861,
     "user": {
      "displayName": "Matt Bonci",
      "userId": "16342971815051466958"
     },
     "user_tz": 360
    },
    "id": "4YbHDi96Yrqs",
    "outputId": "9ace9d5c-c536-49c2-df2b-833ff5eb0437"
   },
   "outputs": [],
   "source": [
    "import os\n",
    "import matplotlib.pyplot as plt\n",
    "import seaborn as sns\n",
    "import numpy as np\n",
    "import pandas as pd\n",
    "from sklearn.linear_model import LinearRegression, Ridge, Lasso\n",
    "from sklearn.preprocessing import PolynomialFeatures\n",
    "from sklearn.model_selection import train_test_split\n",
    "from sklearn.preprocessing import OneHotEncoder"
   ]
  },
  {
   "cell_type": "markdown",
   "metadata": {
    "id": "cTlXBMT_aEaw"
   },
   "source": [
    "# Exploratory Data Analysis (EDA)"
   ]
  },
  {
   "cell_type": "code",
   "execution_count": 128,
   "metadata": {
    "colab": {
     "base_uri": "https://localhost:8080/"
    },
    "executionInfo": {
     "elapsed": 345,
     "status": "ok",
     "timestamp": 1700341517393,
     "user": {
      "displayName": "Matt Bonci",
      "userId": "16342971815051466958"
     },
     "user_tz": 360
    },
    "id": "J9yWkJ6mZCst",
    "outputId": "25f5c0a5-c1f1-43d1-8235-d685ecaa173d"
   },
   "outputs": [
    {
     "data": {
      "text/plain": [
       "(2919, 81)"
      ]
     },
     "execution_count": 128,
     "metadata": {},
     "output_type": "execute_result"
    }
   ],
   "source": [
    "# Import data and check basic information\n",
    "# Note: please use the dataset we provided on Canvas, do not use the one posted on Kaggle\n",
    "df = pd.read_csv('./house_data.csv')\n",
    "df.shape"
   ]
  },
  {
   "cell_type": "code",
   "execution_count": 129,
   "metadata": {
    "colab": {
     "base_uri": "https://localhost:8080/"
    },
    "executionInfo": {
     "elapsed": 122,
     "status": "ok",
     "timestamp": 1700341519033,
     "user": {
      "displayName": "Matt Bonci",
      "userId": "16342971815051466958"
     },
     "user_tz": 360
    },
    "id": "uq-debBEZDFf",
    "outputId": "8d7b027f-6764-4205-edc9-28bb7f3b1981"
   },
   "outputs": [
    {
     "data": {
      "text/plain": [
       "Index(['Id', 'MSSubClass', 'MSZoning', 'LotFrontage', 'LotArea', 'Street',\n",
       "       'Alley', 'LotShape', 'LandContour', 'Utilities', 'LotConfig',\n",
       "       'LandSlope', 'Neighborhood', 'Condition1', 'Condition2', 'BldgType',\n",
       "       'HouseStyle', 'OverallQual', 'OverallCond', 'YearBuilt', 'YearRemodAdd',\n",
       "       'RoofStyle', 'RoofMatl', 'Exterior1st', 'Exterior2nd', 'MasVnrType',\n",
       "       'MasVnrArea', 'ExterQual', 'ExterCond', 'Foundation', 'BsmtQual',\n",
       "       'BsmtCond', 'BsmtExposure', 'BsmtFinType1', 'BsmtFinSF1',\n",
       "       'BsmtFinType2', 'BsmtFinSF2', 'BsmtUnfSF', 'TotalBsmtSF', 'Heating',\n",
       "       'HeatingQC', 'CentralAir', 'Electrical', '1stFlrSF', '2ndFlrSF',\n",
       "       'LowQualFinSF', 'GrLivArea', 'BsmtFullBath', 'BsmtHalfBath', 'FullBath',\n",
       "       'HalfBath', 'BedroomAbvGr', 'KitchenAbvGr', 'KitchenQual',\n",
       "       'TotRmsAbvGrd', 'Functional', 'Fireplaces', 'FireplaceQu', 'GarageType',\n",
       "       'GarageYrBlt', 'GarageFinish', 'GarageCars', 'GarageArea', 'GarageQual',\n",
       "       'GarageCond', 'PavedDrive', 'WoodDeckSF', 'OpenPorchSF',\n",
       "       'EnclosedPorch', '3SsnPorch', 'ScreenPorch', 'PoolArea', 'PoolQC',\n",
       "       'Fence', 'MiscFeature', 'MiscVal', 'MoSold', 'YrSold', 'SaleType',\n",
       "       'SaleCondition', 'SalePrice'],\n",
       "      dtype='object')"
      ]
     },
     "execution_count": 129,
     "metadata": {},
     "output_type": "execute_result"
    }
   ],
   "source": [
    "# View variables\n",
    "df.columns"
   ]
  },
  {
   "cell_type": "code",
   "execution_count": 130,
   "metadata": {
    "colab": {
     "base_uri": "https://localhost:8080/",
     "height": 235
    },
    "executionInfo": {
     "elapsed": 5,
     "status": "ok",
     "timestamp": 1700341519464,
     "user": {
      "displayName": "Matt Bonci",
      "userId": "16342971815051466958"
     },
     "user_tz": 360
    },
    "id": "4X60_EbGad7l",
    "outputId": "29d2d578-20fc-4e12-e056-d59283064194"
   },
   "outputs": [
    {
     "data": {
      "text/html": [
       "<div>\n",
       "<style scoped>\n",
       "    .dataframe tbody tr th:only-of-type {\n",
       "        vertical-align: middle;\n",
       "    }\n",
       "\n",
       "    .dataframe tbody tr th {\n",
       "        vertical-align: top;\n",
       "    }\n",
       "\n",
       "    .dataframe thead th {\n",
       "        text-align: right;\n",
       "    }\n",
       "</style>\n",
       "<table border=\"1\" class=\"dataframe\">\n",
       "  <thead>\n",
       "    <tr style=\"text-align: right;\">\n",
       "      <th></th>\n",
       "      <th>Id</th>\n",
       "      <th>MSSubClass</th>\n",
       "      <th>MSZoning</th>\n",
       "      <th>LotFrontage</th>\n",
       "      <th>LotArea</th>\n",
       "      <th>Street</th>\n",
       "      <th>Alley</th>\n",
       "      <th>LotShape</th>\n",
       "      <th>LandContour</th>\n",
       "      <th>Utilities</th>\n",
       "      <th>...</th>\n",
       "      <th>PoolArea</th>\n",
       "      <th>PoolQC</th>\n",
       "      <th>Fence</th>\n",
       "      <th>MiscFeature</th>\n",
       "      <th>MiscVal</th>\n",
       "      <th>MoSold</th>\n",
       "      <th>YrSold</th>\n",
       "      <th>SaleType</th>\n",
       "      <th>SaleCondition</th>\n",
       "      <th>SalePrice</th>\n",
       "    </tr>\n",
       "  </thead>\n",
       "  <tbody>\n",
       "    <tr>\n",
       "      <th>0</th>\n",
       "      <td>1</td>\n",
       "      <td>60</td>\n",
       "      <td>RL</td>\n",
       "      <td>65.0</td>\n",
       "      <td>8450</td>\n",
       "      <td>Pave</td>\n",
       "      <td>NaN</td>\n",
       "      <td>Reg</td>\n",
       "      <td>Lvl</td>\n",
       "      <td>AllPub</td>\n",
       "      <td>...</td>\n",
       "      <td>0</td>\n",
       "      <td>NaN</td>\n",
       "      <td>NaN</td>\n",
       "      <td>NaN</td>\n",
       "      <td>0</td>\n",
       "      <td>2</td>\n",
       "      <td>2008</td>\n",
       "      <td>WD</td>\n",
       "      <td>Normal</td>\n",
       "      <td>208500.0</td>\n",
       "    </tr>\n",
       "    <tr>\n",
       "      <th>1</th>\n",
       "      <td>2</td>\n",
       "      <td>20</td>\n",
       "      <td>RL</td>\n",
       "      <td>80.0</td>\n",
       "      <td>9600</td>\n",
       "      <td>Pave</td>\n",
       "      <td>NaN</td>\n",
       "      <td>Reg</td>\n",
       "      <td>Lvl</td>\n",
       "      <td>AllPub</td>\n",
       "      <td>...</td>\n",
       "      <td>0</td>\n",
       "      <td>NaN</td>\n",
       "      <td>NaN</td>\n",
       "      <td>NaN</td>\n",
       "      <td>0</td>\n",
       "      <td>5</td>\n",
       "      <td>2007</td>\n",
       "      <td>WD</td>\n",
       "      <td>Normal</td>\n",
       "      <td>181500.0</td>\n",
       "    </tr>\n",
       "    <tr>\n",
       "      <th>2</th>\n",
       "      <td>3</td>\n",
       "      <td>60</td>\n",
       "      <td>RL</td>\n",
       "      <td>68.0</td>\n",
       "      <td>11250</td>\n",
       "      <td>Pave</td>\n",
       "      <td>NaN</td>\n",
       "      <td>IR1</td>\n",
       "      <td>Lvl</td>\n",
       "      <td>AllPub</td>\n",
       "      <td>...</td>\n",
       "      <td>0</td>\n",
       "      <td>NaN</td>\n",
       "      <td>NaN</td>\n",
       "      <td>NaN</td>\n",
       "      <td>0</td>\n",
       "      <td>9</td>\n",
       "      <td>2008</td>\n",
       "      <td>WD</td>\n",
       "      <td>Normal</td>\n",
       "      <td>223500.0</td>\n",
       "    </tr>\n",
       "    <tr>\n",
       "      <th>3</th>\n",
       "      <td>4</td>\n",
       "      <td>70</td>\n",
       "      <td>RL</td>\n",
       "      <td>60.0</td>\n",
       "      <td>9550</td>\n",
       "      <td>Pave</td>\n",
       "      <td>NaN</td>\n",
       "      <td>IR1</td>\n",
       "      <td>Lvl</td>\n",
       "      <td>AllPub</td>\n",
       "      <td>...</td>\n",
       "      <td>0</td>\n",
       "      <td>NaN</td>\n",
       "      <td>NaN</td>\n",
       "      <td>NaN</td>\n",
       "      <td>0</td>\n",
       "      <td>2</td>\n",
       "      <td>2006</td>\n",
       "      <td>WD</td>\n",
       "      <td>Abnorml</td>\n",
       "      <td>140000.0</td>\n",
       "    </tr>\n",
       "    <tr>\n",
       "      <th>4</th>\n",
       "      <td>5</td>\n",
       "      <td>60</td>\n",
       "      <td>RL</td>\n",
       "      <td>84.0</td>\n",
       "      <td>14260</td>\n",
       "      <td>Pave</td>\n",
       "      <td>NaN</td>\n",
       "      <td>IR1</td>\n",
       "      <td>Lvl</td>\n",
       "      <td>AllPub</td>\n",
       "      <td>...</td>\n",
       "      <td>0</td>\n",
       "      <td>NaN</td>\n",
       "      <td>NaN</td>\n",
       "      <td>NaN</td>\n",
       "      <td>0</td>\n",
       "      <td>12</td>\n",
       "      <td>2008</td>\n",
       "      <td>WD</td>\n",
       "      <td>Normal</td>\n",
       "      <td>250000.0</td>\n",
       "    </tr>\n",
       "  </tbody>\n",
       "</table>\n",
       "<p>5 rows × 81 columns</p>\n",
       "</div>"
      ],
      "text/plain": [
       "   Id  MSSubClass MSZoning  LotFrontage  LotArea Street Alley LotShape  \\\n",
       "0   1          60       RL         65.0     8450   Pave   NaN      Reg   \n",
       "1   2          20       RL         80.0     9600   Pave   NaN      Reg   \n",
       "2   3          60       RL         68.0    11250   Pave   NaN      IR1   \n",
       "3   4          70       RL         60.0     9550   Pave   NaN      IR1   \n",
       "4   5          60       RL         84.0    14260   Pave   NaN      IR1   \n",
       "\n",
       "  LandContour Utilities  ... PoolArea PoolQC Fence MiscFeature MiscVal MoSold  \\\n",
       "0         Lvl    AllPub  ...        0    NaN   NaN         NaN       0      2   \n",
       "1         Lvl    AllPub  ...        0    NaN   NaN         NaN       0      5   \n",
       "2         Lvl    AllPub  ...        0    NaN   NaN         NaN       0      9   \n",
       "3         Lvl    AllPub  ...        0    NaN   NaN         NaN       0      2   \n",
       "4         Lvl    AllPub  ...        0    NaN   NaN         NaN       0     12   \n",
       "\n",
       "  YrSold  SaleType  SaleCondition  SalePrice  \n",
       "0   2008        WD         Normal   208500.0  \n",
       "1   2007        WD         Normal   181500.0  \n",
       "2   2008        WD         Normal   223500.0  \n",
       "3   2006        WD        Abnorml   140000.0  \n",
       "4   2008        WD         Normal   250000.0  \n",
       "\n",
       "[5 rows x 81 columns]"
      ]
     },
     "execution_count": 130,
     "metadata": {},
     "output_type": "execute_result"
    }
   ],
   "source": [
    "df.head()"
   ]
  },
  {
   "cell_type": "markdown",
   "metadata": {
    "id": "CrfswGiAUz5J"
   },
   "source": [
    "## Explore target variable\n",
    "\n",
    "The variable: SalePrice - the property's sale price in dollars\n",
    "\n",
    "The aim here is to better understand our target and verify its integrity. We will look at some summary statistics, empirical distribution and missing values."
   ]
  },
  {
   "cell_type": "code",
   "execution_count": 131,
   "metadata": {
    "colab": {
     "base_uri": "https://localhost:8080/"
    },
    "executionInfo": {
     "elapsed": 5,
     "status": "ok",
     "timestamp": 1700341520064,
     "user": {
      "displayName": "Matt Bonci",
      "userId": "16342971815051466958"
     },
     "user_tz": 360
    },
    "id": "K8n1cc1kk2Sa",
    "outputId": "269b4e1f-c825-4135-8746-2e3c096026f7"
   },
   "outputs": [
    {
     "name": "stdout",
     "output_type": "stream",
     "text": [
      "count      1460.000000\n",
      "mean     180921.195890\n",
      "std       79442.502883\n",
      "min       34900.000000\n",
      "25%      129975.000000\n",
      "50%      163000.000000\n",
      "75%      214000.000000\n",
      "max      755000.000000\n",
      "Name: SalePrice, dtype: float64\n",
      "\n",
      "Number of missing values: 1459\n",
      "Proportion of missing values: 0.4998\n"
     ]
    }
   ],
   "source": [
    "print(df.SalePrice.describe()) # Look at summary statistics\n",
    "print()\n",
    "print(\"Number of missing values: {}\".format(df.SalePrice.isna().sum())) \n",
    "print(\"Proportion of missing values: {:.4f}\".format(df.SalePrice.isna().sum()/len(df)))"
   ]
  },
  {
   "cell_type": "code",
   "execution_count": 132,
   "metadata": {
    "colab": {
     "base_uri": "https://localhost:8080/",
     "height": 489
    },
    "executionInfo": {
     "elapsed": 166,
     "status": "ok",
     "timestamp": 1700341520396,
     "user": {
      "displayName": "Matt Bonci",
      "userId": "16342971815051466958"
     },
     "user_tz": 360
    },
    "id": "sxNdLepmlIFV",
    "outputId": "0b58780a-6bf6-4483-be29-fb6f97a6aa41"
   },
   "outputs": [
    {
     "data": {
      "image/png": "[encoded data removed]",
      "text/plain": [
       "<Figure size 640x480 with 1 Axes>"
      ]
     },
     "metadata": {},
     "output_type": "display_data"
    }
   ],
   "source": [
    "# Visualize the distribution\n",
    "plt.hist(df.SalePrice, rwidth=0.9)\n",
    "plt.xlabel('Price')\n",
    "plt.title('Sale Price Histogram');"
   ]
  },
  {
   "cell_type": "markdown",
   "metadata": {
    "id": "sdEaFfhimbet"
   },
   "source": [
    "We gain some helpful informatino from all of this:\n",
    "- First, we see that there are a significant amount of missing values -- we need to deal with these.\n",
    "- Furthermore, we see that there are outliers on the upper end of the distribution, i.e., some houses are sold for extremely high prices."
   ]
  },
  {
   "cell_type": "code",
   "execution_count": 133,
   "metadata": {
    "colab": {
     "base_uri": "https://localhost:8080/",
     "height": 541
    },
    "executionInfo": {
     "elapsed": 183,
     "status": "ok",
     "timestamp": 1700341520754,
     "user": {
      "displayName": "Matt Bonci",
      "userId": "16342971815051466958"
     },
     "user_tz": 360
    },
    "id": "mKtZWUDyRsan",
    "outputId": "4303f2fd-f27c-4199-fbae-02365aeaffb6"
   },
   "outputs": [
    {
     "name": "stdout",
     "output_type": "stream",
     "text": [
      "Shape of data before dropping: (2919, 81)\n",
      "Shape of data after dropping: (1460, 81)\n",
      "\n"
     ]
    },
    {
     "data": {
      "image/png": "[encoded data removed]",
      "text/plain": [
       "<Figure size 640x480 with 1 Axes>"
      ]
     },
     "metadata": {},
     "output_type": "display_data"
    }
   ],
   "source": [
    "# Drop missing values\n",
    "print('Shape of data before dropping: {}'.format(df.shape))\n",
    "df_clean = df.drop(df[df['SalePrice'].isna()].index, axis=0)\n",
    "print('Shape of data after dropping: {}'.format(df_clean.shape))\n",
    "print()\n",
    "\n",
    "# Data transformation: take log of the target variable, to reduce the range of the prices\n",
    "df_clean['lg_SalePrice'] = np.log(df['SalePrice'])\n",
    "\n",
    "# Visualize the transformed distribution\n",
    "plt.hist(df_clean.lg_SalePrice, rwidth=0.9)\n",
    "plt.xlabel('Log Price')\n",
    "plt.title('Log Sale Price Histogram');"
   ]
  },
  {
   "cell_type": "markdown",
   "metadata": {
    "id": "-26OcCRnhhof"
   },
   "source": [
    "## Explore feature variables\n",
    "\n",
    "We will now apply a similar approach to explore our features:\n",
    "\n",
    "1) Check for and deal with missing values\n",
    "\n",
    "2) Determine feature types\n",
    "\n",
    "3) Clean features based on their type\n",
    "\n"
   ]
  },
  {
   "cell_type": "markdown",
   "metadata": {
    "id": "886Vs4fqCTJn"
   },
   "source": [
    "## Missing values"
   ]
  },
  {
   "cell_type": "code",
   "execution_count": 134,
   "metadata": {
    "colab": {
     "base_uri": "https://localhost:8080/"
    },
    "executionInfo": {
     "elapsed": 3,
     "status": "ok",
     "timestamp": 1700341521158,
     "user": {
      "displayName": "Matt Bonci",
      "userId": "16342971815051466958"
     },
     "user_tz": 360
    },
    "id": "KalCxajBakqC",
    "outputId": "611eb8a3-6a74-43f3-c09f-cacf961a3524"
   },
   "outputs": [
    {
     "data": {
      "text/plain": [
       "LotFrontage     0.177397\n",
       "Alley           0.937671\n",
       "MasVnrType      0.597260\n",
       "MasVnrArea      0.005479\n",
       "BsmtQual        0.025342\n",
       "BsmtCond        0.025342\n",
       "BsmtExposure    0.026027\n",
       "BsmtFinType1    0.025342\n",
       "BsmtFinType2    0.026027\n",
       "Electrical      0.000685\n",
       "FireplaceQu     0.472603\n",
       "GarageType      0.055479\n",
       "GarageYrBlt     0.055479\n",
       "GarageFinish    0.055479\n",
       "GarageQual      0.055479\n",
       "GarageCond      0.055479\n",
       "PoolQC          0.995205\n",
       "Fence           0.807534\n",
       "MiscFeature     0.963014\n",
       "dtype: float64"
      ]
     },
     "execution_count": 134,
     "metadata": {},
     "output_type": "execute_result"
    }
   ],
   "source": [
    "# Check missing values\n",
    "null_perct = df_clean.isna().sum()/len(df_clean)\n",
    "null_perct[null_perct>0]"
   ]
  },
  {
   "cell_type": "code",
   "execution_count": 135,
   "metadata": {
    "colab": {
     "base_uri": "https://localhost:8080/"
    },
    "executionInfo": {
     "elapsed": 3,
     "status": "ok",
     "timestamp": 1700341521287,
     "user": {
      "displayName": "Matt Bonci",
      "userId": "16342971815051466958"
     },
     "user_tz": 360
    },
    "id": "uw_ZYcEhhoK6",
    "outputId": "824ab4d3-7d00-49c0-9530-a401a236be2c"
   },
   "outputs": [
    {
     "name": "stdout",
     "output_type": "stream",
     "text": [
      "(1460, 82)\n",
      "(1460, 76)\n"
     ]
    }
   ],
   "source": [
    "# Note that some features have a large portion of missing observations (e.g., PoolQC).\n",
    "# In response, we will drop columns that have more than 30% missing values.\n",
    "# Recall that there are other potential ways to deal with missing values, such as imputation, but this is not the focus of this assignment.\n",
    "\n",
    "print(df_clean.shape)\n",
    "df_clean = df_clean.drop(columns=df_clean.columns[null_perct > 0.3])\n",
    "print(df_clean.shape)\n",
    "\n",
    "# feature size reduced from 82 to 77"
   ]
  },
  {
   "cell_type": "code",
   "execution_count": 136,
   "metadata": {
    "colab": {
     "base_uri": "https://localhost:8080/"
    },
    "executionInfo": {
     "elapsed": 159,
     "status": "ok",
     "timestamp": 1700341521964,
     "user": {
      "displayName": "Matt Bonci",
      "userId": "16342971815051466958"
     },
     "user_tz": 360
    },
    "id": "dkav-bLHfW-i",
    "outputId": "d578b3bd-d2ca-4977-fb5d-553ef4934ab1"
   },
   "outputs": [
    {
     "name": "stdout",
     "output_type": "stream",
     "text": [
      "(1460, 76)\n",
      "(1094, 76)\n"
     ]
    }
   ],
   "source": [
    "# Next, we will drop samples with any remaining missing values.\n",
    "print(df_clean.shape)\n",
    "df_final = df_clean.dropna().reset_index(drop=True)\n",
    "print(df_final.shape)\n",
    "\n",
    "# sample size reduced from 1460 to 1094"
   ]
  },
  {
   "cell_type": "markdown",
   "metadata": {
    "id": "yQgsl2toCa2P"
   },
   "source": [
    "## Explore feature types\n",
    "\n",
    "What kind of feature types do we have? Organize features into types."
   ]
  },
  {
   "cell_type": "markdown",
   "metadata": {
    "id": "mpY-aBLuRQ3_"
   },
   "source": [
    "### Begin with numeric variables"
   ]
  },
  {
   "cell_type": "code",
   "execution_count": 137,
   "metadata": {
    "colab": {
     "base_uri": "https://localhost:8080/"
    },
    "executionInfo": {
     "elapsed": 3,
     "status": "ok",
     "timestamp": 1700341522480,
     "user": {
      "displayName": "Matt Bonci",
      "userId": "16342971815051466958"
     },
     "user_tz": 360
    },
    "id": "sdepiazzkRld",
    "outputId": "9968e5b6-098e-4cef-c685-08e837f826a7"
   },
   "outputs": [
    {
     "data": {
      "text/plain": [
       "Id                 int64\n",
       "MSSubClass         int64\n",
       "LotFrontage      float64\n",
       "LotArea            int64\n",
       "OverallQual        int64\n",
       "OverallCond        int64\n",
       "YearBuilt          int64\n",
       "YearRemodAdd       int64\n",
       "MasVnrArea       float64\n",
       "BsmtFinSF1       float64\n",
       "BsmtFinSF2       float64\n",
       "BsmtUnfSF        float64\n",
       "TotalBsmtSF      float64\n",
       "1stFlrSF           int64\n",
       "2ndFlrSF           int64\n",
       "LowQualFinSF       int64\n",
       "GrLivArea          int64\n",
       "BsmtFullBath     float64\n",
       "BsmtHalfBath     float64\n",
       "FullBath           int64\n",
       "HalfBath           int64\n",
       "BedroomAbvGr       int64\n",
       "KitchenAbvGr       int64\n",
       "TotRmsAbvGrd       int64\n",
       "Fireplaces         int64\n",
       "GarageYrBlt      float64\n",
       "GarageCars       float64\n",
       "GarageArea       float64\n",
       "WoodDeckSF         int64\n",
       "OpenPorchSF        int64\n",
       "EnclosedPorch      int64\n",
       "3SsnPorch          int64\n",
       "ScreenPorch        int64\n",
       "PoolArea           int64\n",
       "MiscVal            int64\n",
       "MoSold             int64\n",
       "YrSold             int64\n",
       "SalePrice        float64\n",
       "lg_SalePrice     float64\n",
       "dtype: object"
      ]
     },
     "execution_count": 137,
     "metadata": {},
     "output_type": "execute_result"
    }
   ],
   "source": [
    "# Identify numeric types\n",
    "df_final.select_dtypes(['int', 'float']).dtypes"
   ]
  },
  {
   "cell_type": "code",
   "execution_count": 138,
   "metadata": {
    "colab": {
     "base_uri": "https://localhost:8080/",
     "height": 349
    },
    "executionInfo": {
     "elapsed": 280,
     "status": "ok",
     "timestamp": 1700341522945,
     "user": {
      "displayName": "Matt Bonci",
      "userId": "16342971815051466958"
     },
     "user_tz": 360
    },
    "id": "pbTrBkoNVMYL",
    "outputId": "e414e966-2521-4a20-d7a1-906278b8c270"
   },
   "outputs": [
    {
     "data": {
      "text/html": [
       "<div>\n",
       "<style scoped>\n",
       "    .dataframe tbody tr th:only-of-type {\n",
       "        vertical-align: middle;\n",
       "    }\n",
       "\n",
       "    .dataframe tbody tr th {\n",
       "        vertical-align: top;\n",
       "    }\n",
       "\n",
       "    .dataframe thead th {\n",
       "        text-align: right;\n",
       "    }\n",
       "</style>\n",
       "<table border=\"1\" class=\"dataframe\">\n",
       "  <thead>\n",
       "    <tr style=\"text-align: right;\">\n",
       "      <th></th>\n",
       "      <th>Id</th>\n",
       "      <th>MSSubClass</th>\n",
       "      <th>LotFrontage</th>\n",
       "      <th>LotArea</th>\n",
       "      <th>OverallQual</th>\n",
       "      <th>OverallCond</th>\n",
       "      <th>YearBuilt</th>\n",
       "      <th>YearRemodAdd</th>\n",
       "      <th>MasVnrArea</th>\n",
       "      <th>BsmtFinSF1</th>\n",
       "      <th>...</th>\n",
       "      <th>OpenPorchSF</th>\n",
       "      <th>EnclosedPorch</th>\n",
       "      <th>3SsnPorch</th>\n",
       "      <th>ScreenPorch</th>\n",
       "      <th>PoolArea</th>\n",
       "      <th>MiscVal</th>\n",
       "      <th>MoSold</th>\n",
       "      <th>YrSold</th>\n",
       "      <th>SalePrice</th>\n",
       "      <th>lg_SalePrice</th>\n",
       "    </tr>\n",
       "  </thead>\n",
       "  <tbody>\n",
       "    <tr>\n",
       "      <th>count</th>\n",
       "      <td>1094.000000</td>\n",
       "      <td>1094.000000</td>\n",
       "      <td>1094.000000</td>\n",
       "      <td>1094.000000</td>\n",
       "      <td>1094.000000</td>\n",
       "      <td>1094.000000</td>\n",
       "      <td>1094.000000</td>\n",
       "      <td>1094.000000</td>\n",
       "      <td>1094.000000</td>\n",
       "      <td>1094.000000</td>\n",
       "      <td>...</td>\n",
       "      <td>1094.000000</td>\n",
       "      <td>1094.000000</td>\n",
       "      <td>1094.000000</td>\n",
       "      <td>1094.000000</td>\n",
       "      <td>1094.000000</td>\n",
       "      <td>1094.000000</td>\n",
       "      <td>1094.000000</td>\n",
       "      <td>1094.000000</td>\n",
       "      <td>1094.000000</td>\n",
       "      <td>1094.000000</td>\n",
       "    </tr>\n",
       "    <tr>\n",
       "      <th>mean</th>\n",
       "      <td>727.375686</td>\n",
       "      <td>56.128885</td>\n",
       "      <td>70.759598</td>\n",
       "      <td>10132.346435</td>\n",
       "      <td>6.247715</td>\n",
       "      <td>5.575868</td>\n",
       "      <td>1972.412249</td>\n",
       "      <td>1985.915905</td>\n",
       "      <td>109.855576</td>\n",
       "      <td>448.191956</td>\n",
       "      <td>...</td>\n",
       "      <td>46.946984</td>\n",
       "      <td>22.053016</td>\n",
       "      <td>3.266910</td>\n",
       "      <td>16.498172</td>\n",
       "      <td>3.007313</td>\n",
       "      <td>23.550274</td>\n",
       "      <td>6.335466</td>\n",
       "      <td>2007.786106</td>\n",
       "      <td>187033.263254</td>\n",
       "      <td>12.057513</td>\n",
       "    </tr>\n",
       "    <tr>\n",
       "      <th>std</th>\n",
       "      <td>420.955488</td>\n",
       "      <td>41.976345</td>\n",
       "      <td>24.508859</td>\n",
       "      <td>8212.249621</td>\n",
       "      <td>1.366797</td>\n",
       "      <td>1.066500</td>\n",
       "      <td>31.189752</td>\n",
       "      <td>20.930772</td>\n",
       "      <td>190.667459</td>\n",
       "      <td>468.728095</td>\n",
       "      <td>...</td>\n",
       "      <td>64.820019</td>\n",
       "      <td>61.570502</td>\n",
       "      <td>29.655973</td>\n",
       "      <td>58.455303</td>\n",
       "      <td>40.713175</td>\n",
       "      <td>167.135237</td>\n",
       "      <td>2.694558</td>\n",
       "      <td>1.334307</td>\n",
       "      <td>83165.332151</td>\n",
       "      <td>0.394847</td>\n",
       "    </tr>\n",
       "    <tr>\n",
       "      <th>min</th>\n",
       "      <td>1.000000</td>\n",
       "      <td>20.000000</td>\n",
       "      <td>21.000000</td>\n",
       "      <td>1300.000000</td>\n",
       "      <td>2.000000</td>\n",
       "      <td>2.000000</td>\n",
       "      <td>1880.000000</td>\n",
       "      <td>1950.000000</td>\n",
       "      <td>0.000000</td>\n",
       "      <td>0.000000</td>\n",
       "      <td>...</td>\n",
       "      <td>0.000000</td>\n",
       "      <td>0.000000</td>\n",
       "      <td>0.000000</td>\n",
       "      <td>0.000000</td>\n",
       "      <td>0.000000</td>\n",
       "      <td>0.000000</td>\n",
       "      <td>1.000000</td>\n",
       "      <td>2006.000000</td>\n",
       "      <td>35311.000000</td>\n",
       "      <td>10.471950</td>\n",
       "    </tr>\n",
       "    <tr>\n",
       "      <th>25%</th>\n",
       "      <td>366.500000</td>\n",
       "      <td>20.000000</td>\n",
       "      <td>60.000000</td>\n",
       "      <td>7606.750000</td>\n",
       "      <td>5.000000</td>\n",
       "      <td>5.000000</td>\n",
       "      <td>1953.000000</td>\n",
       "      <td>1967.000000</td>\n",
       "      <td>0.000000</td>\n",
       "      <td>0.000000</td>\n",
       "      <td>...</td>\n",
       "      <td>0.000000</td>\n",
       "      <td>0.000000</td>\n",
       "      <td>0.000000</td>\n",
       "      <td>0.000000</td>\n",
       "      <td>0.000000</td>\n",
       "      <td>0.000000</td>\n",
       "      <td>5.000000</td>\n",
       "      <td>2007.000000</td>\n",
       "      <td>132500.000000</td>\n",
       "      <td>11.794338</td>\n",
       "    </tr>\n",
       "    <tr>\n",
       "      <th>50%</th>\n",
       "      <td>723.500000</td>\n",
       "      <td>50.000000</td>\n",
       "      <td>70.000000</td>\n",
       "      <td>9444.500000</td>\n",
       "      <td>6.000000</td>\n",
       "      <td>5.000000</td>\n",
       "      <td>1975.000000</td>\n",
       "      <td>1995.000000</td>\n",
       "      <td>0.000000</td>\n",
       "      <td>384.500000</td>\n",
       "      <td>...</td>\n",
       "      <td>28.000000</td>\n",
       "      <td>0.000000</td>\n",
       "      <td>0.000000</td>\n",
       "      <td>0.000000</td>\n",
       "      <td>0.000000</td>\n",
       "      <td>0.000000</td>\n",
       "      <td>6.000000</td>\n",
       "      <td>2008.000000</td>\n",
       "      <td>165750.000000</td>\n",
       "      <td>12.018235</td>\n",
       "    </tr>\n",
       "    <tr>\n",
       "      <th>75%</th>\n",
       "      <td>1093.750000</td>\n",
       "      <td>70.000000</td>\n",
       "      <td>80.000000</td>\n",
       "      <td>11387.250000</td>\n",
       "      <td>7.000000</td>\n",
       "      <td>6.000000</td>\n",
       "      <td>2003.000000</td>\n",
       "      <td>2005.000000</td>\n",
       "      <td>171.750000</td>\n",
       "      <td>712.750000</td>\n",
       "      <td>...</td>\n",
       "      <td>68.000000</td>\n",
       "      <td>0.000000</td>\n",
       "      <td>0.000000</td>\n",
       "      <td>0.000000</td>\n",
       "      <td>0.000000</td>\n",
       "      <td>0.000000</td>\n",
       "      <td>8.000000</td>\n",
       "      <td>2009.000000</td>\n",
       "      <td>221000.000000</td>\n",
       "      <td>12.305918</td>\n",
       "    </tr>\n",
       "    <tr>\n",
       "      <th>max</th>\n",
       "      <td>1460.000000</td>\n",
       "      <td>190.000000</td>\n",
       "      <td>313.000000</td>\n",
       "      <td>215245.000000</td>\n",
       "      <td>10.000000</td>\n",
       "      <td>9.000000</td>\n",
       "      <td>2010.000000</td>\n",
       "      <td>2010.000000</td>\n",
       "      <td>1600.000000</td>\n",
       "      <td>5644.000000</td>\n",
       "      <td>...</td>\n",
       "      <td>547.000000</td>\n",
       "      <td>552.000000</td>\n",
       "      <td>508.000000</td>\n",
       "      <td>480.000000</td>\n",
       "      <td>648.000000</td>\n",
       "      <td>2500.000000</td>\n",
       "      <td>12.000000</td>\n",
       "      <td>2010.000000</td>\n",
       "      <td>755000.000000</td>\n",
       "      <td>13.534473</td>\n",
       "    </tr>\n",
       "  </tbody>\n",
       "</table>\n",
       "<p>8 rows × 39 columns</p>\n",
       "</div>"
      ],
      "text/plain": [
       "                Id   MSSubClass  LotFrontage        LotArea  OverallQual  \\\n",
       "count  1094.000000  1094.000000  1094.000000    1094.000000  1094.000000   \n",
       "mean    727.375686    56.128885    70.759598   10132.346435     6.247715   \n",
       "std     420.955488    41.976345    24.508859    8212.249621     1.366797   \n",
       "min       1.000000    20.000000    21.000000    1300.000000     2.000000   \n",
       "25%     366.500000    20.000000    60.000000    7606.750000     5.000000   \n",
       "50%     723.500000    50.000000    70.000000    9444.500000     6.000000   \n",
       "75%    1093.750000    70.000000    80.000000   11387.250000     7.000000   \n",
       "max    1460.000000   190.000000   313.000000  215245.000000    10.000000   \n",
       "\n",
       "       OverallCond    YearBuilt  YearRemodAdd   MasVnrArea   BsmtFinSF1  ...  \\\n",
       "count  1094.000000  1094.000000   1094.000000  1094.000000  1094.000000  ...   \n",
       "mean      5.575868  1972.412249   1985.915905   109.855576   448.191956  ...   \n",
       "std       1.066500    31.189752     20.930772   190.667459   468.728095  ...   \n",
       "min       2.000000  1880.000000   1950.000000     0.000000     0.000000  ...   \n",
       "25%       5.000000  1953.000000   1967.000000     0.000000     0.000000  ...   \n",
       "50%       5.000000  1975.000000   1995.000000     0.000000   384.500000  ...   \n",
       "75%       6.000000  2003.000000   2005.000000   171.750000   712.750000  ...   \n",
       "max       9.000000  2010.000000   2010.000000  1600.000000  5644.000000  ...   \n",
       "\n",
       "       OpenPorchSF  EnclosedPorch    3SsnPorch  ScreenPorch     PoolArea  \\\n",
       "count  1094.000000    1094.000000  1094.000000  1094.000000  1094.000000   \n",
       "mean     46.946984      22.053016     3.266910    16.498172     3.007313   \n",
       "std      64.820019      61.570502    29.655973    58.455303    40.713175   \n",
       "min       0.000000       0.000000     0.000000     0.000000     0.000000   \n",
       "25%       0.000000       0.000000     0.000000     0.000000     0.000000   \n",
       "50%      28.000000       0.000000     0.000000     0.000000     0.000000   \n",
       "75%      68.000000       0.000000     0.000000     0.000000     0.000000   \n",
       "max     547.000000     552.000000   508.000000   480.000000   648.000000   \n",
       "\n",
       "           MiscVal       MoSold       YrSold      SalePrice  lg_SalePrice  \n",
       "count  1094.000000  1094.000000  1094.000000    1094.000000   1094.000000  \n",
       "mean     23.550274     6.335466  2007.786106  187033.263254     12.057513  \n",
       "std     167.135237     2.694558     1.334307   83165.332151      0.394847  \n",
       "min       0.000000     1.000000  2006.000000   35311.000000     10.471950  \n",
       "25%       0.000000     5.000000  2007.000000  132500.000000     11.794338  \n",
       "50%       0.000000     6.000000  2008.000000  165750.000000     12.018235  \n",
       "75%       0.000000     8.000000  2009.000000  221000.000000     12.305918  \n",
       "max    2500.000000    12.000000  2010.000000  755000.000000     13.534473  \n",
       "\n",
       "[8 rows x 39 columns]"
      ]
     },
     "execution_count": 138,
     "metadata": {},
     "output_type": "execute_result"
    }
   ],
   "source": [
    "# Generate descriptive statistics for numeric variables\n",
    "df_final.select_dtypes(['int', 'float']).describe()"
   ]
  },
  {
   "cell_type": "markdown",
   "metadata": {
    "id": "uiQl9RH0C3T7"
   },
   "source": [
    "Note that we have both integer (e.g., YearBuilt, YrSold) and float (e.g., LotFrontage) variables.\n",
    "\n",
    "While there are some integers such as MSSubClas, that one may want to treat differently, perhaps by one-hot encoding, here we will let them enter the regression as integer features."
   ]
  },
  {
   "cell_type": "code",
   "execution_count": 139,
   "metadata": {
    "colab": {
     "base_uri": "https://localhost:8080/"
    },
    "executionInfo": {
     "elapsed": 3,
     "status": "ok",
     "timestamp": 1700341523913,
     "user": {
      "displayName": "Matt Bonci",
      "userId": "16342971815051466958"
     },
     "user_tz": 360
    },
    "id": "i_dF27GxXhel",
    "outputId": "a0d0e2f1-14d3-480e-d056-4264c6010049"
   },
   "outputs": [
    {
     "name": "stdout",
     "output_type": "stream",
     "text": [
      "(1094, 36)\n"
     ]
    }
   ],
   "source": [
    "# Collect numeric features to be included in later analysis\n",
    "all_num_cols = df_final.select_dtypes(['int', 'float']).columns\n",
    "num_cols = all_num_cols[1:len(all_num_cols)-2] # Collect numeric features, exclude ID and target variable\n",
    "df_num = df_final[num_cols] # Exclude ID and target variable\n",
    "print(df_num.shape)"
   ]
  },
  {
   "cell_type": "markdown",
   "metadata": {
    "id": "KobqpBFeL8lN"
   },
   "source": [
    "### Check text/string variables "
   ]
  },
  {
   "cell_type": "code",
   "execution_count": 140,
   "metadata": {
    "colab": {
     "base_uri": "https://localhost:8080/"
    },
    "executionInfo": {
     "elapsed": 159,
     "status": "ok",
     "timestamp": 1700341524879,
     "user": {
      "displayName": "Matt Bonci",
      "userId": "16342971815051466958"
     },
     "user_tz": 360
    },
    "id": "4ZtCZJ4TkRiI",
    "outputId": "5d7d7ab7-c208-49ba-ebd5-1756c1bd54eb"
   },
   "outputs": [
    {
     "data": {
      "text/plain": [
       "MSZoning         object\n",
       "Street           object\n",
       "LotShape         object\n",
       "LandContour      object\n",
       "Utilities        object\n",
       "LotConfig        object\n",
       "LandSlope        object\n",
       "Neighborhood     object\n",
       "Condition1       object\n",
       "Condition2       object\n",
       "BldgType         object\n",
       "HouseStyle       object\n",
       "RoofStyle        object\n",
       "RoofMatl         object\n",
       "Exterior1st      object\n",
       "Exterior2nd      object\n",
       "ExterQual        object\n",
       "ExterCond        object\n",
       "Foundation       object\n",
       "BsmtQual         object\n",
       "BsmtCond         object\n",
       "BsmtExposure     object\n",
       "BsmtFinType1     object\n",
       "BsmtFinType2     object\n",
       "Heating          object\n",
       "HeatingQC        object\n",
       "CentralAir       object\n",
       "Electrical       object\n",
       "KitchenQual      object\n",
       "Functional       object\n",
       "GarageType       object\n",
       "GarageFinish     object\n",
       "GarageQual       object\n",
       "GarageCond       object\n",
       "PavedDrive       object\n",
       "SaleType         object\n",
       "SaleCondition    object\n",
       "dtype: object"
      ]
     },
     "execution_count": 140,
     "metadata": {},
     "output_type": "execute_result"
    }
   ],
   "source": [
    "# Pandas strings\n",
    "df_final.select_dtypes(['object']).dtypes"
   ]
  },
  {
   "cell_type": "code",
   "execution_count": 141,
   "metadata": {
    "colab": {
     "base_uri": "https://localhost:8080/"
    },
    "executionInfo": {
     "elapsed": 4,
     "status": "ok",
     "timestamp": 1700341525033,
     "user": {
      "displayName": "Matt Bonci",
      "userId": "16342971815051466958"
     },
     "user_tz": 360
    },
    "id": "rQul6wD22a0W",
    "outputId": "fc6e503b-692e-44ed-eac4-3fae362754bd"
   },
   "outputs": [
    {
     "name": "stdout",
     "output_type": "stream",
     "text": [
      "MSZoning\n",
      "RL         850\n",
      "RM         173\n",
      "FV          54\n",
      "RH           9\n",
      "C (all)      8\n",
      "Name: count, dtype: int64 \n",
      "\n",
      "Street\n",
      "Pave    1090\n",
      "Grvl       4\n",
      "Name: count, dtype: int64 \n",
      "\n",
      "LotShape\n",
      "Reg    760\n",
      "IR1    301\n",
      "IR2     26\n",
      "IR3      7\n",
      "Name: count, dtype: int64 \n",
      "\n",
      "LandContour\n",
      "Lvl    991\n",
      "Bnk     45\n",
      "HLS     44\n",
      "Low     14\n",
      "Name: count, dtype: int64 \n",
      "\n",
      "Utilities\n",
      "AllPub    1094\n",
      "Name: count, dtype: int64 \n",
      "\n",
      "LotConfig\n",
      "Inside     830\n",
      "Corner     187\n",
      "CulDSac     44\n",
      "FR2         29\n",
      "FR3          4\n",
      "Name: count, dtype: int64 \n",
      "\n",
      "LandSlope\n",
      "Gtl    1045\n",
      "Mod      44\n",
      "Sev       5\n",
      "Name: count, dtype: int64 \n",
      "\n",
      "Neighborhood\n",
      "NAmes      173\n",
      "CollgCr    122\n",
      "OldTown     96\n",
      "Somerst     75\n",
      "NridgHt     74\n",
      "Edwards     65\n",
      "Gilbert     49\n",
      "NWAmes      45\n",
      "Sawyer      44\n",
      "SawyerW     44\n",
      "BrkSide     42\n",
      "Crawfor     41\n",
      "NoRidge     33\n",
      "Mitchel     30\n",
      "Timber      29\n",
      "IDOTRR      27\n",
      "StoneBr     20\n",
      "SWISU       19\n",
      "BrDale      15\n",
      "Blmngtn     14\n",
      "ClearCr     11\n",
      "MeadowV     10\n",
      "Veenker      7\n",
      "NPkVill      7\n",
      "Blueste      2\n",
      "Name: count, dtype: int64 \n",
      "\n",
      "Condition1\n",
      "Norm      950\n",
      "Feedr      52\n",
      "Artery     42\n",
      "RRAn       24\n",
      "PosN        9\n",
      "RRAe        8\n",
      "RRNn        4\n",
      "PosA        4\n",
      "RRNe        1\n",
      "Name: count, dtype: int64 \n",
      "\n",
      "Condition2\n",
      "Norm      1082\n",
      "Feedr        5\n",
      "Artery       2\n",
      "RRNn         2\n",
      "PosN         2\n",
      "PosA         1\n",
      "Name: count, dtype: int64 \n",
      "\n",
      "BldgType\n",
      "1Fam      925\n",
      "TwnhsE     90\n",
      "Twnhs      35\n",
      "Duplex     24\n",
      "2fmCon     20\n",
      "Name: count, dtype: int64 \n",
      "\n",
      "HouseStyle\n",
      "1Story    540\n",
      "2Story    346\n",
      "1.5Fin    117\n",
      "SLvl       43\n",
      "SFoyer     23\n",
      "1.5Unf     10\n",
      "2.5Unf      9\n",
      "2.5Fin      6\n",
      "Name: count, dtype: int64 \n",
      "\n",
      "RoofStyle\n",
      "Gable      843\n",
      "Hip        230\n",
      "Gambrel     10\n",
      "Mansard      6\n",
      "Flat         5\n",
      "Name: count, dtype: int64 \n",
      "\n",
      "RoofMatl\n",
      "CompShg    1078\n",
      "WdShngl       6\n",
      "Tar&Grv       5\n",
      "WdShake       2\n",
      "Membran       1\n",
      "Roll          1\n",
      "ClyTile       1\n",
      "Name: count, dtype: int64 \n",
      "\n",
      "Exterior1st\n",
      "VinylSd    421\n",
      "MetalSd    172\n",
      "HdBoard    151\n",
      "Wd Sdng    149\n",
      "Plywood     64\n",
      "CemntBd     45\n",
      "BrkFace     36\n",
      "WdShing     20\n",
      "Stucco      18\n",
      "AsbShng     14\n",
      "BrkComm      1\n",
      "Stone        1\n",
      "ImStucc      1\n",
      "CBlock       1\n",
      "Name: count, dtype: int64 \n",
      "\n",
      "Exterior2nd\n",
      "VinylSd    412\n",
      "MetalSd    169\n",
      "Wd Sdng    145\n",
      "HdBoard    138\n",
      "Plywood     82\n",
      "CmentBd     45\n",
      "Wd Shng     28\n",
      "Stucco      20\n",
      "BrkFace     19\n",
      "AsbShng     15\n",
      "ImStucc      9\n",
      "Brk Cmn      6\n",
      "AsphShn      2\n",
      "Stone        2\n",
      "Other        1\n",
      "CBlock       1\n",
      "Name: count, dtype: int64 \n",
      "\n",
      "ExterQual\n",
      "TA    646\n",
      "Gd    395\n",
      "Ex     46\n",
      "Fa      7\n",
      "Name: count, dtype: int64 \n",
      "\n",
      "ExterCond\n",
      "TA    973\n",
      "Gd    104\n",
      "Fa     15\n",
      "Ex      2\n",
      "Name: count, dtype: int64 \n",
      "\n",
      "Foundation\n",
      "PConc     518\n",
      "CBlock    446\n",
      "BrkTil    122\n",
      "Stone       6\n",
      "Wood        2\n",
      "Name: count, dtype: int64 \n",
      "\n",
      "BsmtQual\n",
      "TA    486\n",
      "Gd    463\n",
      "Ex    113\n",
      "Fa     32\n",
      "Name: count, dtype: int64 \n",
      "\n",
      "BsmtCond\n",
      "TA    1006\n",
      "Gd      51\n",
      "Fa      36\n",
      "Po       1\n",
      "Name: count, dtype: int64 \n",
      "\n",
      "BsmtExposure\n",
      "No    734\n",
      "Av    174\n",
      "Gd     97\n",
      "Mn     89\n",
      "Name: count, dtype: int64 \n",
      "\n",
      "BsmtFinType1\n",
      "Unf    343\n",
      "GLQ    323\n",
      "ALQ    162\n",
      "Rec    105\n",
      "BLQ    105\n",
      "LwQ     56\n",
      "Name: count, dtype: int64 \n",
      "\n",
      "BsmtFinType2\n",
      "Unf    972\n",
      "Rec     37\n",
      "LwQ     35\n",
      "BLQ     25\n",
      "ALQ     13\n",
      "GLQ     12\n",
      "Name: count, dtype: int64 \n",
      "\n",
      "Heating\n",
      "GasA    1075\n",
      "GasW      16\n",
      "Grav       2\n",
      "OthW       1\n",
      "Name: count, dtype: int64 \n",
      "\n",
      "HeatingQC\n",
      "Ex    594\n",
      "TA    298\n",
      "Gd    174\n",
      "Fa     27\n",
      "Po      1\n",
      "Name: count, dtype: int64 \n",
      "\n",
      "CentralAir\n",
      "Y    1036\n",
      "N      58\n",
      "Name: count, dtype: int64 \n",
      "\n",
      "Electrical\n",
      "SBrkr    1009\n",
      "FuseA      67\n",
      "FuseF      15\n",
      "FuseP       2\n",
      "Mix         1\n",
      "Name: count, dtype: int64 \n",
      "\n",
      "KitchenQual\n",
      "TA    528\n",
      "Gd    454\n",
      "Ex     91\n",
      "Fa     21\n",
      "Name: count, dtype: int64 \n",
      "\n",
      "Functional\n",
      "Typ     1024\n",
      "Min2      25\n",
      "Min1      21\n",
      "Maj1      10\n",
      "Mod       10\n",
      "Maj2       4\n",
      "Name: count, dtype: int64 \n",
      "\n",
      "GarageType\n",
      "Attchd     680\n",
      "Detchd     325\n",
      "BuiltIn     63\n",
      "Basment     15\n",
      "CarPort      6\n",
      "2Types       5\n",
      "Name: count, dtype: int64 \n",
      "\n",
      "GarageFinish\n",
      "Unf    485\n",
      "RFn    333\n",
      "Fin    276\n",
      "Name: count, dtype: int64 \n",
      "\n",
      "GarageQual\n",
      "TA    1031\n",
      "Fa      46\n",
      "Gd      11\n",
      "Ex       3\n",
      "Po       3\n",
      "Name: count, dtype: int64 \n",
      "\n",
      "GarageCond\n",
      "TA    1050\n",
      "Fa      31\n",
      "Po       6\n",
      "Gd       5\n",
      "Ex       2\n",
      "Name: count, dtype: int64 \n",
      "\n",
      "PavedDrive\n",
      "Y    1023\n",
      "N      48\n",
      "P      23\n",
      "Name: count, dtype: int64 \n",
      "\n",
      "SaleType\n",
      "WD       928\n",
      "New      116\n",
      "COD       31\n",
      "ConLD      5\n",
      "CWD        4\n",
      "ConLw      4\n",
      "ConLI      3\n",
      "Con        2\n",
      "Oth        1\n",
      "Name: count, dtype: int64 \n",
      "\n",
      "SaleCondition\n",
      "Normal     880\n",
      "Partial    119\n",
      "Abnorml     70\n",
      "Family      18\n",
      "Alloca       6\n",
      "AdjLand      1\n",
      "Name: count, dtype: int64 \n",
      "\n"
     ]
    }
   ],
   "source": [
    "# Tabulate variables to better understand their content\n",
    "for col in df_final.select_dtypes(['object']).columns:\n",
    "    print(df_final[col].value_counts(),'\\n') "
   ]
  },
  {
   "cell_type": "markdown",
   "metadata": {
    "id": "3WtSOOf4Rn0N"
   },
   "source": [
    "We see that these variables are categorical in nature. The next step will be to engineer these into many indicator variables using sklearn.preprocessing's OneHotEncoder."
   ]
  },
  {
   "cell_type": "code",
   "execution_count": 142,
   "metadata": {
    "colab": {
     "base_uri": "https://localhost:8080/",
     "height": 92
    },
    "executionInfo": {
     "elapsed": 6,
     "status": "ok",
     "timestamp": 1700341526119,
     "user": {
      "displayName": "Matt Bonci",
      "userId": "16342971815051466958"
     },
     "user_tz": 360
    },
    "id": "5VA_C_JC1Tl5",
    "outputId": "1436a573-bcd5-4d71-bd5c-15483f341c2f"
   },
   "outputs": [
    {
     "data": {
      "text/html": [
       "<style>#sk-container-id-3 {color: black;}#sk-container-id-3 pre{padding: 0;}#sk-container-id-3 div.sk-toggleable {background-color: white;}#sk-container-id-3 label.sk-toggleable__label {cursor: pointer;display: block;width: 100%;margin-bottom: 0;padding: 0.3em;box-sizing: border-box;text-align: center;}#sk-container-id-3 label.sk-toggleable__label-arrow:before {content: \"▸\";float: left;margin-right: 0.25em;color: #696969;}#sk-container-id-3 label.sk-toggleable__label-arrow:hover:before {color: black;}#sk-container-id-3 div.sk-estimator:hover label.sk-toggleable__label-arrow:before {color: black;}#sk-container-id-3 div.sk-toggleable__content {max-height: 0;max-width: 0;overflow: hidden;text-align: left;background-color: #f0f8ff;}#sk-container-id-3 div.sk-toggleable__content pre {margin: 0.2em;color: black;border-radius: 0.25em;background-color: #f0f8ff;}#sk-container-id-3 input.sk-toggleable__control:checked~div.sk-toggleable__content {max-height: 200px;max-width: 100%;overflow: auto;}#sk-container-id-3 input.sk-toggleable__control:checked~label.sk-toggleable__label-arrow:before {content: \"▾\";}#sk-container-id-3 div.sk-estimator input.sk-toggleable__control:checked~label.sk-toggleable__label {background-color: #d4ebff;}#sk-container-id-3 div.sk-label input.sk-toggleable__control:checked~label.sk-toggleable__label {background-color: #d4ebff;}#sk-container-id-3 input.sk-hidden--visually {border: 0;clip: rect(1px 1px 1px 1px);clip: rect(1px, 1px, 1px, 1px);height: 1px;margin: -1px;overflow: hidden;padding: 0;position: absolute;width: 1px;}#sk-container-id-3 div.sk-estimator {font-family: monospace;background-color: #f0f8ff;border: 1px dotted black;border-radius: 0.25em;box-sizing: border-box;margin-bottom: 0.5em;}#sk-container-id-3 div.sk-estimator:hover {background-color: #d4ebff;}#sk-container-id-3 div.sk-parallel-item::after {content: \"\";width: 100%;border-bottom: 1px solid gray;flex-grow: 1;}#sk-container-id-3 div.sk-label:hover label.sk-toggleable__label {background-color: #d4ebff;}#sk-container-id-3 div.sk-serial::before {content: \"\";position: absolute;border-left: 1px solid gray;box-sizing: border-box;top: 0;bottom: 0;left: 50%;z-index: 0;}#sk-container-id-3 div.sk-serial {display: flex;flex-direction: column;align-items: center;background-color: white;padding-right: 0.2em;padding-left: 0.2em;position: relative;}#sk-container-id-3 div.sk-item {position: relative;z-index: 1;}#sk-container-id-3 div.sk-parallel {display: flex;align-items: stretch;justify-content: center;background-color: white;position: relative;}#sk-container-id-3 div.sk-item::before, #sk-container-id-3 div.sk-parallel-item::before {content: \"\";position: absolute;border-left: 1px solid gray;box-sizing: border-box;top: 0;bottom: 0;left: 50%;z-index: -1;}#sk-container-id-3 div.sk-parallel-item {display: flex;flex-direction: column;z-index: 1;position: relative;background-color: white;}#sk-container-id-3 div.sk-parallel-item:first-child::after {align-self: flex-end;width: 50%;}#sk-container-id-3 div.sk-parallel-item:last-child::after {align-self: flex-start;width: 50%;}#sk-container-id-3 div.sk-parallel-item:only-child::after {width: 0;}#sk-container-id-3 div.sk-dashed-wrapped {border: 1px dashed gray;margin: 0 0.4em 0.5em 0.4em;box-sizing: border-box;padding-bottom: 0.4em;background-color: white;}#sk-container-id-3 div.sk-label label {font-family: monospace;font-weight: bold;display: inline-block;line-height: 1.2em;}#sk-container-id-3 div.sk-label-container {text-align: center;}#sk-container-id-3 div.sk-container {/* jupyter's `normalize.less` sets `[hidden] { display: none; }` but bootstrap.min.css set `[hidden] { display: none !important; }` so we also need the `!important` here to be able to override the default hidden behavior on the sphinx rendered scikit-learn.org. See: https://github.com/scikit-learn/scikit-learn/issues/21755 */display: inline-block !important;position: relative;}#sk-container-id-3 div.sk-text-repr-fallback {display: none;}</style><div id=\"sk-container-id-3\" class=\"sk-top-container\"><div class=\"sk-text-repr-fallback\"><pre>OneHotEncoder(drop=&#x27;first&#x27;, dtype=&lt;class &#x27;numpy.int64&#x27;&gt;,\n",
       "              handle_unknown=&#x27;ignore&#x27;)</pre><b>In a Jupyter environment, please rerun this cell to show the HTML representation or trust the notebook. <br />On GitHub, the HTML representation is unable to render, please try loading this page with nbviewer.org.</b></div><div class=\"sk-container\" hidden><div class=\"sk-item\"><div class=\"sk-estimator sk-toggleable\"><input class=\"sk-toggleable__control sk-hidden--visually\" id=\"sk-estimator-id-3\" type=\"checkbox\" checked><label for=\"sk-estimator-id-3\" class=\"sk-toggleable__label sk-toggleable__label-arrow\">OneHotEncoder</label><div class=\"sk-toggleable__content\"><pre>OneHotEncoder(drop=&#x27;first&#x27;, dtype=&lt;class &#x27;numpy.int64&#x27;&gt;,\n",
       "              handle_unknown=&#x27;ignore&#x27;)</pre></div></div></div></div></div>"
      ],
      "text/plain": [
       "OneHotEncoder(drop='first', dtype=<class 'numpy.int64'>,\n",
       "              handle_unknown='ignore')"
      ]
     },
     "execution_count": 142,
     "metadata": {},
     "output_type": "execute_result"
    }
   ],
   "source": [
    "# Collect text (i.e., object) variables\n",
    "# 选择数据类型为object的列，保存在一个列表text_cols中\n",
    "text_cols = df_final.select_dtypes(['object']).columns.to_list()\n",
    "\n",
    "# Initiate OHE instance\n",
    "# 初始化OHE实例\n",
    "ohe = OneHotEncoder(handle_unknown='ignore', drop='first', dtype = np.int64) # Set drop to 'first' to aviod collinearity\n",
    "\n",
    "# Fit OHE to the categorical features\n",
    "# 将OHE对象拟合到df_final中的文本列上。在这个过程中，OHE学习了数据中每个分类变量的所有可能值，并建立了一个编码方案\n",
    "ohe.fit(df_final[text_cols])"
   ]
  },
  {
   "cell_type": "code",
   "execution_count": 143,
   "metadata": {
    "colab": {
     "base_uri": "https://localhost:8080/"
    },
    "executionInfo": {
     "elapsed": 143,
     "status": "ok",
     "timestamp": 1700341527890,
     "user": {
      "displayName": "Matt Bonci",
      "userId": "16342971815051466958"
     },
     "user_tz": 360
    },
    "id": "vy_O7Cfn28sL",
    "outputId": "cda53a3d-19d0-41c6-8bba-fff927e036e1"
   },
   "outputs": [
    {
     "data": {
      "text/plain": [
       "[array(['C (all)', 'FV', 'RH', 'RL', 'RM'], dtype=object),\n",
       " array(['Grvl', 'Pave'], dtype=object),\n",
       " array(['IR1', 'IR2', 'IR3', 'Reg'], dtype=object),\n",
       " array(['Bnk', 'HLS', 'Low', 'Lvl'], dtype=object),\n",
       " array(['AllPub'], dtype=object),\n",
       " array(['Corner', 'CulDSac', 'FR2', 'FR3', 'Inside'], dtype=object),\n",
       " array(['Gtl', 'Mod', 'Sev'], dtype=object),\n",
       " array(['Blmngtn', 'Blueste', 'BrDale', 'BrkSide', 'ClearCr', 'CollgCr',\n",
       "        'Crawfor', 'Edwards', 'Gilbert', 'IDOTRR', 'MeadowV', 'Mitchel',\n",
       "        'NAmes', 'NPkVill', 'NWAmes', 'NoRidge', 'NridgHt', 'OldTown',\n",
       "        'SWISU', 'Sawyer', 'SawyerW', 'Somerst', 'StoneBr', 'Timber',\n",
       "        'Veenker'], dtype=object),\n",
       " array(['Artery', 'Feedr', 'Norm', 'PosA', 'PosN', 'RRAe', 'RRAn', 'RRNe',\n",
       "        'RRNn'], dtype=object),\n",
       " array(['Artery', 'Feedr', 'Norm', 'PosA', 'PosN', 'RRNn'], dtype=object),\n",
       " array(['1Fam', '2fmCon', 'Duplex', 'Twnhs', 'TwnhsE'], dtype=object),\n",
       " array(['1.5Fin', '1.5Unf', '1Story', '2.5Fin', '2.5Unf', '2Story',\n",
       "        'SFoyer', 'SLvl'], dtype=object),\n",
       " array(['Flat', 'Gable', 'Gambrel', 'Hip', 'Mansard'], dtype=object),\n",
       " array(['ClyTile', 'CompShg', 'Membran', 'Roll', 'Tar&Grv', 'WdShake',\n",
       "        'WdShngl'], dtype=object),\n",
       " array(['AsbShng', 'BrkComm', 'BrkFace', 'CBlock', 'CemntBd', 'HdBoard',\n",
       "        'ImStucc', 'MetalSd', 'Plywood', 'Stone', 'Stucco', 'VinylSd',\n",
       "        'Wd Sdng', 'WdShing'], dtype=object),\n",
       " array(['AsbShng', 'AsphShn', 'Brk Cmn', 'BrkFace', 'CBlock', 'CmentBd',\n",
       "        'HdBoard', 'ImStucc', 'MetalSd', 'Other', 'Plywood', 'Stone',\n",
       "        'Stucco', 'VinylSd', 'Wd Sdng', 'Wd Shng'], dtype=object),\n",
       " array(['Ex', 'Fa', 'Gd', 'TA'], dtype=object),\n",
       " array(['Ex', 'Fa', 'Gd', 'TA'], dtype=object),\n",
       " array(['BrkTil', 'CBlock', 'PConc', 'Stone', 'Wood'], dtype=object),\n",
       " array(['Ex', 'Fa', 'Gd', 'TA'], dtype=object),\n",
       " array(['Fa', 'Gd', 'Po', 'TA'], dtype=object),\n",
       " array(['Av', 'Gd', 'Mn', 'No'], dtype=object),\n",
       " array(['ALQ', 'BLQ', 'GLQ', 'LwQ', 'Rec', 'Unf'], dtype=object),\n",
       " array(['ALQ', 'BLQ', 'GLQ', 'LwQ', 'Rec', 'Unf'], dtype=object),\n",
       " array(['GasA', 'GasW', 'Grav', 'OthW'], dtype=object),\n",
       " array(['Ex', 'Fa', 'Gd', 'Po', 'TA'], dtype=object),\n",
       " array(['N', 'Y'], dtype=object),\n",
       " array(['FuseA', 'FuseF', 'FuseP', 'Mix', 'SBrkr'], dtype=object),\n",
       " array(['Ex', 'Fa', 'Gd', 'TA'], dtype=object),\n",
       " array(['Maj1', 'Maj2', 'Min1', 'Min2', 'Mod', 'Typ'], dtype=object),\n",
       " array(['2Types', 'Attchd', 'Basment', 'BuiltIn', 'CarPort', 'Detchd'],\n",
       "       dtype=object),\n",
       " array(['Fin', 'RFn', 'Unf'], dtype=object),\n",
       " array(['Ex', 'Fa', 'Gd', 'Po', 'TA'], dtype=object),\n",
       " array(['Ex', 'Fa', 'Gd', 'Po', 'TA'], dtype=object),\n",
       " array(['N', 'P', 'Y'], dtype=object),\n",
       " array(['COD', 'CWD', 'Con', 'ConLD', 'ConLI', 'ConLw', 'New', 'Oth', 'WD'],\n",
       "       dtype=object),\n",
       " array(['Abnorml', 'AdjLand', 'Alloca', 'Family', 'Normal', 'Partial'],\n",
       "       dtype=object)]"
      ]
     },
     "execution_count": 143,
     "metadata": {},
     "output_type": "execute_result"
    }
   ],
   "source": [
    "# View categories\n",
    "ohe.categories_"
   ]
  },
  {
   "cell_type": "code",
   "execution_count": 144,
   "metadata": {
    "colab": {
     "base_uri": "https://localhost:8080/"
    },
    "executionInfo": {
     "elapsed": 153,
     "status": "ok",
     "timestamp": 1700341529287,
     "user": {
      "displayName": "Matt Bonci",
      "userId": "16342971815051466958"
     },
     "user_tz": 360
    },
    "id": "ZpBioDOTbvGV",
    "outputId": "d3c2060b-a64e-4d88-e17d-daba8d17d07a"
   },
   "outputs": [
    {
     "name": "stdout",
     "output_type": "stream",
     "text": [
      "(1094, 182)\n"
     ]
    }
   ],
   "source": [
    "# Note: Many of the original features contain similar values.\n",
    "# we will relabel these as FeatureName_value to make it self-explainable\n",
    "# 初始化一个空列表，用于后续存储经过OHE转换后的新列名\n",
    "new_col_names = []\n",
    "\n",
    "index = 0\n",
    "\n",
    "# for循环结合zip()，迭代ohe.categories_和text_cols，前者包含了拟合到OHE实例的每个特征的唯一类别数组，\n",
    "# 后者包含了原始数据集中的文本列名。在每次循环中，arr变量包含了某个文本特征的唯一值数组，col_name变量\n",
    "# 则是该特征的列名。\n",
    "for arr, col_name in zip(ohe.categories_, text_cols):\n",
    "    # 使用一个内层for循环遍历arr中的元素，从第二个元素开始，因为OHE设置了drop='first'，意味着每个特征\n",
    "    # 的第一个类别将被省略以避免共线性。\n",
    "    for ele in arr[1:]: # Skipping the first value label because our OHE model is set to drop the first feature value\n",
    "        # 对于每个特征值，创建一个新的列名new_col_name，格式为原特征名加上下划线和特征值，如果特征值\n",
    "        # 前后有空格，则用strip(' ')方法去除。\n",
    "        new_col_name = col_name + '_' + ele.strip(' ') \n",
    "        # 将每个new_col_name添加到new_col_names列表中\n",
    "        new_col_names.append(new_col_name)\n",
    "\n",
    "# Create dataset of binary features\n",
    "# 使用ohe.transform()方法将原始的文本数据转换为OHE的数组，然后转为DataFrame，列名为new_col_names列表中的名字\n",
    "df_ohe = pd.DataFrame(ohe.transform(df_final[text_cols]).toarray(), columns=new_col_names)\n",
    "print(df_ohe.shape)"
   ]
  },
  {
   "cell_type": "markdown",
   "metadata": {},
   "source": [
    "关于为何要在OHE中设置drop='first'，为何这样做可以避免共线性的问题：\n",
    "- 比如有一个分类特征有三种可能值：晴朗，多云，下雨。如果为每一种天气都创建一个独立的特征，即一个特征列代表晴朗，一个代表多元，另一个代表下雨，那么每个样本的这三个特征中只有一个会是1，其余两个是0。在这种情况下，如果知道今天不是晴朗也不是多云，那么可以肯定今天一定是下雨的。这样，第三个特征“下雨”就是多余的，因为可以由前两个特征推断出来。这是共线性的一种形式，可能会导致一些问题，比如使得模型参数的估计变得不稳定。所以，在进行OHE时，常见做法是使用drop='first'参数，它自动丢弃每个特征的第一个类别，避免共线性。"
   ]
  },
  {
   "cell_type": "markdown",
   "metadata": {
    "id": "gQPiCJRCYOT4"
   },
   "source": [
    "# Finalize feature matrix and target variable, and create train-test split"
   ]
  },
  {
   "cell_type": "code",
   "execution_count": 145,
   "metadata": {
    "colab": {
     "base_uri": "https://localhost:8080/"
    },
    "executionInfo": {
     "elapsed": 5,
     "status": "ok",
     "timestamp": 1700341531421,
     "user": {
      "displayName": "Matt Bonci",
      "userId": "16342971815051466958"
     },
     "user_tz": 360
    },
    "id": "4rQeEKCBX-w_",
    "outputId": "0a328df0-471d-4922-bc91-f31c48556f3a"
   },
   "outputs": [
    {
     "data": {
      "text/plain": [
       "(1094, 218)"
      ]
     },
     "execution_count": 145,
     "metadata": {},
     "output_type": "execute_result"
    }
   ],
   "source": [
    "# Create feature matrix by concatenating numeric and OHE dataframe\n",
    "# 将两种类型的数据连接起来\n",
    "df_X = pd.concat([df_num, df_ohe], axis = 1)\n",
    "feature_names = df_X.columns.to_list()\n",
    "df_X.shape"
   ]
  },
  {
   "cell_type": "code",
   "execution_count": 146,
   "metadata": {
    "colab": {
     "base_uri": "https://localhost:8080/"
    },
    "executionInfo": {
     "elapsed": 120,
     "status": "ok",
     "timestamp": 1700341532679,
     "user": {
      "displayName": "Matt Bonci",
      "userId": "16342971815051466958"
     },
     "user_tz": 360
    },
    "id": "XwOotAE_5YSh",
    "outputId": "8bd5d7a4-b408-4f9b-ddaa-f704dec322bb"
   },
   "outputs": [
    {
     "data": {
      "text/plain": [
       "(1094, 1)"
      ]
     },
     "execution_count": 146,
     "metadata": {},
     "output_type": "execute_result"
    }
   ],
   "source": [
    "# Create target variable\n",
    "target = 'lg_SalePrice'\n",
    "df_y = df_final[[target]]\n",
    "df_y.shape"
   ]
  },
  {
   "cell_type": "code",
   "execution_count": 147,
   "metadata": {
    "colab": {
     "base_uri": "https://localhost:8080/"
    },
    "executionInfo": {
     "elapsed": 133,
     "status": "ok",
     "timestamp": 1700341534181,
     "user": {
      "displayName": "Matt Bonci",
      "userId": "16342971815051466958"
     },
     "user_tz": 360
    },
    "id": "xtq3z-aL53Yj",
    "outputId": "d0b262f3-0a19-42d9-832f-41b85c89e2dc"
   },
   "outputs": [
    {
     "data": {
      "text/plain": [
       "((765, 218), (329, 218))"
      ]
     },
     "execution_count": 147,
     "metadata": {},
     "output_type": "execute_result"
    }
   ],
   "source": [
    "# Split data into train/test set\n",
    "df_X_train, df_X_test, df_y_train, df_y_test  = train_test_split(df_X, df_y, test_size = 0.3, random_state = 42)\n",
    "\n",
    "df_X_train.shape, df_X_test.shape\n",
    "# created 765 training samples and 329 testing samples, each sample is represented with 221 features"
   ]
  },
  {
   "cell_type": "markdown",
   "metadata": {
    "id": "9_vHckhHYpXA"
   },
   "source": [
    "# Finally... regression time\n",
    "\n",
    "In this subsection we will train and test the following models:\n",
    "\n",
    "i) Linear Regression\n",
    "\n",
    "ii) Polynomial Regression\n",
    "\n",
    "iii) Lasso Regression (with L1 regularization)\n",
    "\n",
    "iv) Ridge Regression (with L2 regularization)\n",
    "\n"
   ]
  },
  {
   "cell_type": "markdown",
   "metadata": {
    "id": "uMS60OgwY4Gi"
   },
   "source": [
    "## Linear Regression\n",
    "\n",
    "Fit the linear regression model on the training set and evaluate model performance on the testing set (use the *score* function)\n",
    "> Documentation: https://scikit-learn.org/stable/modules/generated/sklearn.linear_model.LinearRegression.html"
   ]
  },
  {
   "cell_type": "code",
   "execution_count": 148,
   "metadata": {
    "colab": {
     "base_uri": "https://localhost:8080/"
    },
    "executionInfo": {
     "elapsed": 121,
     "status": "ok",
     "timestamp": 1700343937132,
     "user": {
      "displayName": "Matt Bonci",
      "userId": "16342971815051466958"
     },
     "user_tz": 360
    },
    "id": "pZyA-u1R51st",
    "outputId": "315cf6c3-4012-4d30-a281-7144e2e974b3"
   },
   "outputs": [
    {
     "data": {
      "text/plain": [
       "0.76"
      ]
     },
     "execution_count": 148,
     "metadata": {},
     "output_type": "execute_result"
    }
   ],
   "source": [
    "# Fit on the training data\n",
    "reg = LinearRegression().fit(df_X_train, df_y_train)\n",
    "\n",
    "# Evaluate\n",
    "reg.score(df_X_test, df_y_test).round(3)"
   ]
  },
  {
   "cell_type": "markdown",
   "metadata": {
    "id": "FoSZ3hdmlJyb"
   },
   "source": [
    "**Task-1 (1pts): interpret model coefficients**\n",
    "\n",
    "- What are the largest positive and negative coefficients? \n",
    "- Commnet on some feature-coefficients in the context of the value of a house. Are they what you would expect?\n",
    "\n",
    "Refer to the [data fields on Kaggle](https://www.kaggle.com/competitions/house-prices-advanced-regression-techniques/data) to get more info of each feature. Remember, the OHE features are named according to the following schema: *FeatureName_value*"
   ]
  },
  {
   "cell_type": "markdown",
   "metadata": {},
   "source": [
    "<span style='color:green'>_**MY ANSWER:**_</span>\n",
    "\n",
    "- According to the following code, the top 5 largest positive coefficients are \"RoofMatl\", which refers to roof material. The largest one is \"RoofMatl_Membran\" (3.230), which might be considered the type of highest quality roof material. This makes sense because houses with better roof material are supposed to be more expensive.\n",
    "\n",
    "- The largest negative coefficient is \"Condition2_PosN\" (-0.882), which measures the proximity to main road or railroad. This also makes sense because people tend to dislike living near the main road or railroad because of louder noise.\n",
    "\n",
    "- It is surprising that \"GarageQual_Fa\", \"GarageQual_gd\", \"GarageQual_TA\" which denotes a garage with fair, good, and typical/average quality has negative coefficients, meaning a house whose garage with one these types of quality leads to a decrease in its sale price. This is somewhat counterintuitive, or it might indicate that customers have a very high standard towards the garage when purchasing a house."
   ]
  },
  {
   "cell_type": "code",
   "execution_count": 149,
   "metadata": {
    "colab": {
     "base_uri": "https://localhost:8080/"
    },
    "executionInfo": {
     "elapsed": 318,
     "status": "ok",
     "timestamp": 1700341540799,
     "user": {
      "displayName": "Matt Bonci",
      "userId": "16342971815051466958"
     },
     "user_tz": 360
    },
    "id": "rO0n8qejlo42",
    "outputId": "f1c19c88-2428-4c41-dbcc-dd789cc3d432"
   },
   "outputs": [
    {
     "data": {
      "text/html": [
       "<div>\n",
       "<style scoped>\n",
       "    .dataframe tbody tr th:only-of-type {\n",
       "        vertical-align: middle;\n",
       "    }\n",
       "\n",
       "    .dataframe tbody tr th {\n",
       "        vertical-align: top;\n",
       "    }\n",
       "\n",
       "    .dataframe thead th {\n",
       "        text-align: right;\n",
       "    }\n",
       "</style>\n",
       "<table border=\"1\" class=\"dataframe\">\n",
       "  <thead>\n",
       "    <tr style=\"text-align: right;\">\n",
       "      <th></th>\n",
       "      <th>features</th>\n",
       "      <th>coefficients</th>\n",
       "    </tr>\n",
       "  </thead>\n",
       "  <tbody>\n",
       "    <tr>\n",
       "      <th>106</th>\n",
       "      <td>RoofMatl_Membran</td>\n",
       "      <td>3.234</td>\n",
       "    </tr>\n",
       "    <tr>\n",
       "      <th>110</th>\n",
       "      <td>RoofMatl_WdShngl</td>\n",
       "      <td>2.757</td>\n",
       "    </tr>\n",
       "    <tr>\n",
       "      <th>108</th>\n",
       "      <td>RoofMatl_Tar&amp;Grv</td>\n",
       "      <td>2.737</td>\n",
       "    </tr>\n",
       "    <tr>\n",
       "      <th>105</th>\n",
       "      <td>RoofMatl_CompShg</td>\n",
       "      <td>2.649</td>\n",
       "    </tr>\n",
       "    <tr>\n",
       "      <th>109</th>\n",
       "      <td>RoofMatl_WdShake</td>\n",
       "      <td>2.446</td>\n",
       "    </tr>\n",
       "    <tr>\n",
       "      <th>37</th>\n",
       "      <td>MSZoning_RH</td>\n",
       "      <td>0.464</td>\n",
       "    </tr>\n",
       "    <tr>\n",
       "      <th>36</th>\n",
       "      <td>MSZoning_FV</td>\n",
       "      <td>0.428</td>\n",
       "    </tr>\n",
       "    <tr>\n",
       "      <th>39</th>\n",
       "      <td>MSZoning_RM</td>\n",
       "      <td>0.388</td>\n",
       "    </tr>\n",
       "    <tr>\n",
       "      <th>38</th>\n",
       "      <td>MSZoning_RL</td>\n",
       "      <td>0.368</td>\n",
       "    </tr>\n",
       "    <tr>\n",
       "      <th>201</th>\n",
       "      <td>GarageCond_Po</td>\n",
       "      <td>0.317</td>\n",
       "    </tr>\n",
       "  </tbody>\n",
       "</table>\n",
       "</div>"
      ],
      "text/plain": [
       "             features  coefficients\n",
       "106  RoofMatl_Membran         3.234\n",
       "110  RoofMatl_WdShngl         2.757\n",
       "108  RoofMatl_Tar&Grv         2.737\n",
       "105  RoofMatl_CompShg         2.649\n",
       "109  RoofMatl_WdShake         2.446\n",
       "37        MSZoning_RH         0.464\n",
       "36        MSZoning_FV         0.428\n",
       "39        MSZoning_RM         0.388\n",
       "38        MSZoning_RL         0.368\n",
       "201     GarageCond_Po         0.317"
      ]
     },
     "metadata": {},
     "output_type": "display_data"
    },
    {
     "name": "stdout",
     "output_type": "stream",
     "text": [
      "\n"
     ]
    },
    {
     "data": {
      "text/html": [
       "<div>\n",
       "<style scoped>\n",
       "    .dataframe tbody tr th:only-of-type {\n",
       "        vertical-align: middle;\n",
       "    }\n",
       "\n",
       "    .dataframe tbody tr th {\n",
       "        vertical-align: top;\n",
       "    }\n",
       "\n",
       "    .dataframe thead th {\n",
       "        text-align: right;\n",
       "    }\n",
       "</style>\n",
       "<table border=\"1\" class=\"dataframe\">\n",
       "  <thead>\n",
       "    <tr style=\"text-align: right;\">\n",
       "      <th></th>\n",
       "      <th>features</th>\n",
       "      <th>coefficients</th>\n",
       "    </tr>\n",
       "  </thead>\n",
       "  <tbody>\n",
       "    <tr>\n",
       "      <th>88</th>\n",
       "      <td>Condition2_PosN</td>\n",
       "      <td>-0.886</td>\n",
       "    </tr>\n",
       "    <tr>\n",
       "      <th>197</th>\n",
       "      <td>GarageQual_Po</td>\n",
       "      <td>-0.264</td>\n",
       "    </tr>\n",
       "    <tr>\n",
       "      <th>195</th>\n",
       "      <td>GarageQual_Fa</td>\n",
       "      <td>-0.214</td>\n",
       "    </tr>\n",
       "    <tr>\n",
       "      <th>114</th>\n",
       "      <td>Exterior1st_CemntBd</td>\n",
       "      <td>-0.213</td>\n",
       "    </tr>\n",
       "    <tr>\n",
       "      <th>183</th>\n",
       "      <td>Functional_Maj2</td>\n",
       "      <td>-0.197</td>\n",
       "    </tr>\n",
       "    <tr>\n",
       "      <th>196</th>\n",
       "      <td>GarageQual_Gd</td>\n",
       "      <td>-0.195</td>\n",
       "    </tr>\n",
       "    <tr>\n",
       "      <th>62</th>\n",
       "      <td>Neighborhood_MeadowV</td>\n",
       "      <td>-0.195</td>\n",
       "    </tr>\n",
       "    <tr>\n",
       "      <th>52</th>\n",
       "      <td>LandSlope_Sev</td>\n",
       "      <td>-0.194</td>\n",
       "    </tr>\n",
       "    <tr>\n",
       "      <th>198</th>\n",
       "      <td>GarageQual_TA</td>\n",
       "      <td>-0.180</td>\n",
       "    </tr>\n",
       "    <tr>\n",
       "      <th>173</th>\n",
       "      <td>HeatingQC_Po</td>\n",
       "      <td>-0.177</td>\n",
       "    </tr>\n",
       "  </tbody>\n",
       "</table>\n",
       "</div>"
      ],
      "text/plain": [
       "                 features  coefficients\n",
       "88        Condition2_PosN        -0.886\n",
       "197         GarageQual_Po        -0.264\n",
       "195         GarageQual_Fa        -0.214\n",
       "114   Exterior1st_CemntBd        -0.213\n",
       "183       Functional_Maj2        -0.197\n",
       "196         GarageQual_Gd        -0.195\n",
       "62   Neighborhood_MeadowV        -0.195\n",
       "52          LandSlope_Sev        -0.194\n",
       "198         GarageQual_TA        -0.180\n",
       "173          HeatingQC_Po        -0.177"
      ]
     },
     "metadata": {},
     "output_type": "display_data"
    }
   ],
   "source": [
    "# 提取线性模型的系数估计\n",
    "df_linear_coef = pd.DataFrame({'features':reg.feature_names_in_, 'coefficients':np.round(reg.coef_[0],3)})\n",
    "\n",
    "# 找到前十个最大系数\n",
    "display(df_linear_coef.sort_values(['coefficients'], ascending=False).iloc[:10])\n",
    "print()\n",
    "\n",
    "# 找到前十个最小系数\n",
    "display(df_linear_coef.sort_values(['coefficients'], ascending=True).iloc[:10])"
   ]
  },
  {
   "cell_type": "markdown",
   "metadata": {
    "id": "J6ZioBC0HBnD"
   },
   "source": [
    "## Polynomial regression\n",
    "\n",
    "Let's now add some new polynomial features constructed from our numerical features\n",
    "- Documentation: https://scikit-learn.org/stable/modules/generated/sklearn.preprocessing.PolynomialFeatures.html\n",
    "- Note that we are using the same training and testing dataset from the above steps"
   ]
  },
  {
   "cell_type": "markdown",
   "metadata": {},
   "source": [
    "**First**, we will pick some numerical features to do polynomial transformation on the **training data**"
   ]
  },
  {
   "cell_type": "code",
   "execution_count": 150,
   "metadata": {},
   "outputs": [],
   "source": [
    "# We will apply the polynomial transform to our float variables\n",
    "# 选择float类型的特征列\n",
    "poly_cols = df_X_train.select_dtypes(['float']).columns"
   ]
  },
  {
   "cell_type": "code",
   "execution_count": 151,
   "metadata": {},
   "outputs": [],
   "source": [
    "# We start with second degree polynomial features\n",
    "# 初始化一个多项式特征变换器\n",
    "poly2 = PolynomialFeatures(degree=2, include_bias=True)\n",
    "\n",
    "# Fit and transform selected features of traning data to polynomial representation\n",
    "# 拟合并转换（fit_transform()）训练数据\n",
    "poly2_features_train = pd.DataFrame(poly2.fit_transform(df_X_train[poly_cols]),\n",
    "                                    columns = poly2.get_feature_names_out(poly_cols))"
   ]
  },
  {
   "cell_type": "code",
   "execution_count": 152,
   "metadata": {},
   "outputs": [
    {
     "data": {
      "text/plain": [
       "(765, 285)"
      ]
     },
     "execution_count": 152,
     "metadata": {},
     "output_type": "execute_result"
    }
   ],
   "source": [
    "# Add the ploynomial features to the other remaining features in our training data\n",
    "# Exclude ~ original selected columns that are contained in poly2_features_train\n",
    "# 将转换后的多项式特征与其他剩余特征组合到一起\n",
    "poly2_train = pd.concat([df_X_train.loc[:,  ~df_X_train.columns.isin(poly_cols)].reset_index(),\n",
    "                         poly2_features_train], axis=1)\n",
    "\n",
    "# Set index back to the original train data (when created, poly2_features_train has its indexed reset)\n",
    "# 将索引设置回原始训练数据的索引\n",
    "poly2_train = poly2_train.set_index(['index'])\n",
    "\n",
    "poly2_train.shape"
   ]
  },
  {
   "cell_type": "markdown",
   "metadata": {},
   "source": [
    "**Task-2 (2pts): function discussion**"
   ]
  },
  {
   "cell_type": "markdown",
   "metadata": {},
   "source": [
    "**Think about why** do we do reset_index() and set_index(['indes']) in the above code? **(1pts)**"
   ]
  },
  {
   "cell_type": "markdown",
   "metadata": {},
   "source": [
    "<span style='color:green'>_**MY ANSWER:**_</span>\n",
    "\n",
    "- We use `reset_index()` to reset the index of the columns selected in `df_X_train` because the concatenation is done according to the indexes of two data frames when `axis=1` is used. This is to avoid a mismatch between data when concatenating.\n",
    "\n",
    "- We use `set_index(['index']` because we want to continue using the original index in the dataset."
   ]
  },
  {
   "cell_type": "markdown",
   "metadata": {},
   "source": [
    "**Second**, we will apply the polynomial transformation to those selected features on the **testing data**\n",
    "- **think about why** we do \"fit_transform\" on training data but only do \"transform\" on testing data? **(1pts)**\n"
   ]
  },
  {
   "cell_type": "markdown",
   "metadata": {},
   "source": [
    "<span style='color:green'>_**MY ANSWER:**_</span>\n",
    "\n",
    "- We use `fit_transform()` on training data because we want the polynomial transformer to learn the pattern in the columns of training data and use the learned mechanics to transform the columns into polynomial form.\n",
    "\n",
    "- However, we only use `transform()` on our testing data because we do not want to let the transformer learn new mechanics on our testing data. We only want it to apply what it learns from our training data onto the testing data, to ensure we have the exact same transformation method on the training and testing data."
   ]
  },
  {
   "cell_type": "code",
   "execution_count": 153,
   "metadata": {},
   "outputs": [
    {
     "data": {
      "text/plain": [
       "(329, 285)"
      ]
     },
     "execution_count": 153,
     "metadata": {},
     "output_type": "execute_result"
    }
   ],
   "source": [
    "# Transform on test data\n",
    "\n",
    "poly2_features_test = pd.DataFrame(poly2.transform(df_X_test[poly_cols]),\n",
    "                                   columns = poly2.get_feature_names_out(poly_cols))\n",
    "\n",
    "# Add the ploynomial features to the other remaining features in our testing data\n",
    "# Exclude ~ original selected columns that are contained in poly2_features_train\n",
    "poly2_test = pd.concat([df_X_test.loc[:,  ~df_X_test.columns.isin(poly_cols)].reset_index(),\n",
    "                        poly2_features_test],axis=1)\n",
    "\n",
    "# Set index back to the original train data (when created, poly2_features_train has its indexed reset)\n",
    "poly2_test = poly2_test.set_index(['index'])\n",
    "\n",
    "poly2_test.shape"
   ]
  },
  {
   "cell_type": "markdown",
   "metadata": {},
   "source": [
    "**Third**, we will fit and evaluate the regression model with the newly generated polynomial feature matrix"
   ]
  },
  {
   "cell_type": "code",
   "execution_count": 154,
   "metadata": {
    "colab": {
     "base_uri": "https://localhost:8080/"
    },
    "executionInfo": {
     "elapsed": 278,
     "status": "ok",
     "timestamp": 1700350485439,
     "user": {
      "displayName": "Matt Bonci",
      "userId": "16342971815051466958"
     },
     "user_tz": 360
    },
    "id": "6pgvaDtdrY6E",
    "outputId": "15f76527-9e1f-467c-d942-4ab02a3d54c2"
   },
   "outputs": [
    {
     "data": {
      "text/plain": [
       "0.873"
      ]
     },
     "execution_count": 154,
     "metadata": {},
     "output_type": "execute_result"
    }
   ],
   "source": [
    "# fit a regression model with the newly generated polynomial training feature matrix\n",
    "poly2_reg = LinearRegression().fit(poly2_train, df_y_train)\n",
    "\n",
    "# evaluate model performance on the polynomial testing feature matrix\n",
    "poly2_reg.score(poly2_test, df_y_test).round(3)"
   ]
  },
  {
   "cell_type": "markdown",
   "metadata": {
    "id": "m3PkKiNfjC5e"
   },
   "source": [
    "Note the **test score improvment**! Presumably, our more complex model has learned to explain more variation in sales price that is generalizable to test data.\n",
    "\n",
    "Let's see what happens if we do polynomial degree=3. "
   ]
  },
  {
   "cell_type": "markdown",
   "metadata": {},
   "source": [
    "## Task-3 (2 pts):  implement polynomial degree=3\n",
    "- please follow the above logics of degree=2 to write your own code for degree=3"
   ]
  },
  {
   "cell_type": "markdown",
   "metadata": {},
   "source": [
    "**First**, do polynomial transformation on the poly_cols of the **training data** **(0.5pts)**"
   ]
  },
  {
   "cell_type": "markdown",
   "metadata": {},
   "source": [
    "<span style='color:green'>_**MY ANSWER:**_</span>"
   ]
  },
  {
   "cell_type": "code",
   "execution_count": 155,
   "metadata": {},
   "outputs": [
    {
     "data": {
      "text/plain": [
       "(765, 571)"
      ]
     },
     "execution_count": 155,
     "metadata": {},
     "output_type": "execute_result"
    }
   ],
   "source": [
    "# Initialize a polynomial transformer\n",
    "poly3 = PolynomialFeatures(degree=3, include_bias=True)\n",
    "\n",
    "# Fit and transform selected features of training data to polynomial representation\n",
    "poly3_features_train = pd.DataFrame(poly3.fit_transform(df_X_train[poly_cols]),\n",
    "                                   columns = poly3.get_feature_names_out(poly_cols))\n",
    "\n",
    "# Add the polynomial features to the other remaining features in our training data\n",
    "poly3_train = pd.concat([df_X_train.loc[:, ~df_X_train.columns.isin(poly_cols)].reset_index(),\n",
    "                        poly3_features_train], axis = 1) # axis=1 indicates concatenate vertically, meaning adding more columns\n",
    "\n",
    "# Set index back to the original training data\n",
    "poly3_train = poly3_train.set_index(['index'])\n",
    "\n",
    "poly3_train.shape"
   ]
  },
  {
   "cell_type": "markdown",
   "metadata": {},
   "source": [
    "**Second**, apply the polynomial transformation to the poly_cols of the **testing data** **(0.5pts)**"
   ]
  },
  {
   "cell_type": "markdown",
   "metadata": {},
   "source": [
    "<span style='color:green'>_**MY ANSWER:**_</span>"
   ]
  },
  {
   "cell_type": "code",
   "execution_count": 156,
   "metadata": {},
   "outputs": [
    {
     "data": {
      "text/plain": [
       "(329, 571)"
      ]
     },
     "execution_count": 156,
     "metadata": {},
     "output_type": "execute_result"
    }
   ],
   "source": [
    "# Transform on test data\n",
    "poly3_features_test = pd.DataFrame(poly3.transform(df_X_test[poly_cols]),\n",
    "                                  columns = poly3.get_feature_names_out(poly_cols))\n",
    "\n",
    "# Add the polynomial features to the other remaining features in our testing data\n",
    "poly3_test = pd.concat([df_X_test.loc[:, ~df_X_test.columns.isin(poly_cols)].reset_index(),\n",
    "                       poly3_features_test], axis = 1)\n",
    "\n",
    "# Set index back to the original testing data\n",
    "poly3_test = poly3_test.set_index(['index'])\n",
    "\n",
    "poly3_test.shape"
   ]
  },
  {
   "cell_type": "markdown",
   "metadata": {},
   "source": [
    "**Third**, fit and evaluate the regression model with the newly generated polynomial feature matrix **(0.5pts)**"
   ]
  },
  {
   "cell_type": "markdown",
   "metadata": {},
   "source": [
    "<span style='color:green'>_**MY ANSWER:**_</span>"
   ]
  },
  {
   "cell_type": "code",
   "execution_count": 157,
   "metadata": {},
   "outputs": [
    {
     "data": {
      "text/plain": [
       "-139.466"
      ]
     },
     "execution_count": 157,
     "metadata": {},
     "output_type": "execute_result"
    }
   ],
   "source": [
    "# Fit a polynomial regression model with degree=3\n",
    "poly3_reg = LinearRegression().fit(poly3_train, df_y_train)\n",
    "\n",
    "# Evaluate the model performance on the polynomial testing feature matrix\n",
    "poly3_reg.score(poly3_test, df_y_test).round(3)"
   ]
  },
  {
   "cell_type": "markdown",
   "metadata": {
    "id": "djWusf8zs-N5"
   },
   "source": [
    "**Discussion**: based on what we learned in class about polynomial features, why the evaluation score is negative? what could be happening here? **(0.5pts)**"
   ]
  },
  {
   "cell_type": "markdown",
   "metadata": {},
   "source": [
    "<span style='color:green'>_**MY ANSWER:**_</span>\n",
    "\n",
    "- The score is negative because setting degree = 3 might have caused an over-fitting problem. Too many variables are included in the regression and the model catches some random noise rather than the real pattern of the data. This leads to poor performance in our testing data."
   ]
  },
  {
   "cell_type": "markdown",
   "metadata": {
    "id": "lVjggW7Cnj4x"
   },
   "source": [
    "## Task-4 (1 pts): Lasso Regression\n",
    "\n",
    "Let's now fit and evaluate a Lasso regression model using the feature matrix that you just generated from polynomial **degree=3** \n",
    "- you can try parameter settings with alpha=.0006, tol=10e-2 **(1pts)**"
   ]
  },
  {
   "cell_type": "markdown",
   "metadata": {},
   "source": [
    "<span style='color:green'>_**MY ANSWER:**_</span>"
   ]
  },
  {
   "cell_type": "code",
   "execution_count": 185,
   "metadata": {},
   "outputs": [
    {
     "data": {
      "text/plain": [
       "0.89"
      ]
     },
     "execution_count": 185,
     "metadata": {},
     "output_type": "execute_result"
    }
   ],
   "source": [
    "lasso_reg = Lasso(alpha=0.0006, tol=10e-2)\n",
    "lasso_reg.fit(poly3_train, df_y_train)\n",
    "lasso_score = lasso_reg.score(poly3_test, df_y_test).round(3)\n",
    "lasso_score"
   ]
  },
  {
   "cell_type": "markdown",
   "metadata": {
    "id": "IpZsxQ6cpv8l"
   },
   "source": [
    "## Task-5 (1pts): Ridge regression\n",
    "Let's now fit and evaluate a Ridge regression model using the polynomial features of **degree=3** **(1pts)**"
   ]
  },
  {
   "cell_type": "markdown",
   "metadata": {},
   "source": [
    "<span style='color:green'>_**MY ANSWER:**_</span>"
   ]
  },
  {
   "cell_type": "code",
   "execution_count": 207,
   "metadata": {},
   "outputs": [
    {
     "data": {
      "text/plain": [
       "-118.858"
      ]
     },
     "execution_count": 207,
     "metadata": {},
     "output_type": "execute_result"
    }
   ],
   "source": [
    "ridge_reg = Ridge(alpha=0.0006, tol=10e-2) # score = 0.304 when alpha=600\n",
    "ridge_reg.fit(poly3_train, df_y_train)\n",
    "ridge_score = ridge_reg.score(poly3_test, df_y_test).round(3)\n",
    "ridge_score"
   ]
  },
  {
   "cell_type": "markdown",
   "metadata": {
    "id": "4-fO9XYkn0qI"
   },
   "source": [
    "## Task-6 (1pts): compare the polynomial/ridge/lasso regression models **(1pts)**\n",
    "- write code to compare the three models we fit \n",
    "    - specifically, print the top-10 features with highest coefficients in each model \n",
    "    - expected running results are shown below"
   ]
  },
  {
   "cell_type": "markdown",
   "metadata": {},
   "source": [
    "<span style='color:green'>_**MY ANSWER:**_</span>"
   ]
  },
  {
   "cell_type": "code",
   "execution_count": 210,
   "metadata": {
    "colab": {
     "base_uri": "https://localhost:8080/"
    },
    "executionInfo": {
     "elapsed": 135,
     "status": "ok",
     "timestamp": 1700348073825,
     "user": {
      "displayName": "Matt Bonci",
      "userId": "16342971815051466958"
     },
     "user_tz": 360
    },
    "id": "i35EIOUoq3th",
    "outputId": "7c360b73-16f6-40e9-ac4a-59e3216cfcc0"
   },
   "outputs": [
    {
     "name": "stdout",
     "output_type": "stream",
     "text": [
      "Top 10 highly correlated features in Linear Regression:\n"
     ]
    },
    {
     "data": {
      "text/html": [
       "<div>\n",
       "<style scoped>\n",
       "    .dataframe tbody tr th:only-of-type {\n",
       "        vertical-align: middle;\n",
       "    }\n",
       "\n",
       "    .dataframe tbody tr th {\n",
       "        vertical-align: top;\n",
       "    }\n",
       "\n",
       "    .dataframe thead th {\n",
       "        text-align: right;\n",
       "    }\n",
       "</style>\n",
       "<table border=\"1\" class=\"dataframe\">\n",
       "  <thead>\n",
       "    <tr style=\"text-align: right;\">\n",
       "      <th></th>\n",
       "      <th>features</th>\n",
       "      <th>coefficients</th>\n",
       "    </tr>\n",
       "  </thead>\n",
       "  <tbody>\n",
       "    <tr>\n",
       "      <th>214</th>\n",
       "      <td>BsmtFullBath</td>\n",
       "      <td>23.685</td>\n",
       "    </tr>\n",
       "    <tr>\n",
       "      <th>270</th>\n",
       "      <td>BsmtFullBath^2</td>\n",
       "      <td>23.635</td>\n",
       "    </tr>\n",
       "    <tr>\n",
       "      <th>536</th>\n",
       "      <td>BsmtFullBath^3</td>\n",
       "      <td>23.534</td>\n",
       "    </tr>\n",
       "    <tr>\n",
       "      <th>282</th>\n",
       "      <td>GarageCars^2</td>\n",
       "      <td>5.592</td>\n",
       "    </tr>\n",
       "    <tr>\n",
       "      <th>216</th>\n",
       "      <td>GarageYrBlt</td>\n",
       "      <td>4.100</td>\n",
       "    </tr>\n",
       "    <tr>\n",
       "      <th>208</th>\n",
       "      <td>LotFrontage</td>\n",
       "      <td>3.803</td>\n",
       "    </tr>\n",
       "    <tr>\n",
       "      <th>466</th>\n",
       "      <td>BsmtFinSF2 TotalBsmtSF^2</td>\n",
       "      <td>2.445</td>\n",
       "    </tr>\n",
       "    <tr>\n",
       "      <th>494</th>\n",
       "      <td>BsmtUnfSF TotalBsmtSF^2</td>\n",
       "      <td>2.132</td>\n",
       "    </tr>\n",
       "    <tr>\n",
       "      <th>424</th>\n",
       "      <td>BsmtFinSF1 BsmtUnfSF TotalBsmtSF</td>\n",
       "      <td>1.860</td>\n",
       "    </tr>\n",
       "    <tr>\n",
       "      <th>203</th>\n",
       "      <td>SaleCondition_Alloca</td>\n",
       "      <td>1.790</td>\n",
       "    </tr>\n",
       "  </tbody>\n",
       "</table>\n",
       "</div>"
      ],
      "text/plain": [
       "                             features  coefficients\n",
       "214                      BsmtFullBath        23.685\n",
       "270                    BsmtFullBath^2        23.635\n",
       "536                    BsmtFullBath^3        23.534\n",
       "282                      GarageCars^2         5.592\n",
       "216                       GarageYrBlt         4.100\n",
       "208                       LotFrontage         3.803\n",
       "466          BsmtFinSF2 TotalBsmtSF^2         2.445\n",
       "494           BsmtUnfSF TotalBsmtSF^2         2.132\n",
       "424  BsmtFinSF1 BsmtUnfSF TotalBsmtSF         1.860\n",
       "203              SaleCondition_Alloca         1.790"
      ]
     },
     "metadata": {},
     "output_type": "display_data"
    },
    {
     "name": "stdout",
     "output_type": "stream",
     "text": [
      "Top 10 highly correlated features in LASSO Regression:\n"
     ]
    },
    {
     "data": {
      "text/html": [
       "<div>\n",
       "<style scoped>\n",
       "    .dataframe tbody tr th:only-of-type {\n",
       "        vertical-align: middle;\n",
       "    }\n",
       "\n",
       "    .dataframe tbody tr th {\n",
       "        vertical-align: top;\n",
       "    }\n",
       "\n",
       "    .dataframe thead th {\n",
       "        text-align: right;\n",
       "    }\n",
       "</style>\n",
       "<table border=\"1\" class=\"dataframe\">\n",
       "  <thead>\n",
       "    <tr style=\"text-align: right;\">\n",
       "      <th></th>\n",
       "      <th>features</th>\n",
       "      <th>coefficients</th>\n",
       "    </tr>\n",
       "  </thead>\n",
       "  <tbody>\n",
       "    <tr>\n",
       "      <th>63</th>\n",
       "      <td>Neighborhood_StoneBr</td>\n",
       "      <td>0.124</td>\n",
       "    </tr>\n",
       "    <tr>\n",
       "      <th>47</th>\n",
       "      <td>Neighborhood_Crawfor</td>\n",
       "      <td>0.117</td>\n",
       "    </tr>\n",
       "    <tr>\n",
       "      <th>57</th>\n",
       "      <td>Neighborhood_NridgHt</td>\n",
       "      <td>0.098</td>\n",
       "    </tr>\n",
       "    <tr>\n",
       "      <th>44</th>\n",
       "      <td>Neighborhood_BrkSide</td>\n",
       "      <td>0.081</td>\n",
       "    </tr>\n",
       "    <tr>\n",
       "      <th>176</th>\n",
       "      <td>Functional_Typ</td>\n",
       "      <td>0.070</td>\n",
       "    </tr>\n",
       "    <tr>\n",
       "      <th>199</th>\n",
       "      <td>SaleType_New</td>\n",
       "      <td>0.068</td>\n",
       "    </tr>\n",
       "    <tr>\n",
       "      <th>25</th>\n",
       "      <td>MSZoning_FV</td>\n",
       "      <td>0.059</td>\n",
       "    </tr>\n",
       "    <tr>\n",
       "      <th>164</th>\n",
       "      <td>CentralAir_Y</td>\n",
       "      <td>0.055</td>\n",
       "    </tr>\n",
       "    <tr>\n",
       "      <th>2</th>\n",
       "      <td>OverallQual</td>\n",
       "      <td>0.053</td>\n",
       "    </tr>\n",
       "    <tr>\n",
       "      <th>67</th>\n",
       "      <td>Condition1_Norm</td>\n",
       "      <td>0.053</td>\n",
       "    </tr>\n",
       "  </tbody>\n",
       "</table>\n",
       "</div>"
      ],
      "text/plain": [
       "                 features  coefficients\n",
       "63   Neighborhood_StoneBr         0.124\n",
       "47   Neighborhood_Crawfor         0.117\n",
       "57   Neighborhood_NridgHt         0.098\n",
       "44   Neighborhood_BrkSide         0.081\n",
       "176        Functional_Typ         0.070\n",
       "199          SaleType_New         0.068\n",
       "25            MSZoning_FV         0.059\n",
       "164          CentralAir_Y         0.055\n",
       "2             OverallQual         0.053\n",
       "67        Condition1_Norm         0.053"
      ]
     },
     "metadata": {},
     "output_type": "display_data"
    },
    {
     "name": "stdout",
     "output_type": "stream",
     "text": [
      "Top 10 highly correlated features in RIDGE Regression:\n"
     ]
    },
    {
     "data": {
      "text/html": [
       "<div>\n",
       "<style scoped>\n",
       "    .dataframe tbody tr th:only-of-type {\n",
       "        vertical-align: middle;\n",
       "    }\n",
       "\n",
       "    .dataframe tbody tr th {\n",
       "        vertical-align: top;\n",
       "    }\n",
       "\n",
       "    .dataframe thead th {\n",
       "        text-align: right;\n",
       "    }\n",
       "</style>\n",
       "<table border=\"1\" class=\"dataframe\">\n",
       "  <thead>\n",
       "    <tr style=\"text-align: right;\">\n",
       "      <th></th>\n",
       "      <th>features</th>\n",
       "      <th>coefficients</th>\n",
       "    </tr>\n",
       "  </thead>\n",
       "  <tbody>\n",
       "    <tr>\n",
       "      <th>208</th>\n",
       "      <td>LotFrontage</td>\n",
       "      <td>1.508</td>\n",
       "    </tr>\n",
       "    <tr>\n",
       "      <th>26</th>\n",
       "      <td>MSZoning_RH</td>\n",
       "      <td>0.649</td>\n",
       "    </tr>\n",
       "    <tr>\n",
       "      <th>539</th>\n",
       "      <td>BsmtFullBath^2 GarageCars</td>\n",
       "      <td>0.576</td>\n",
       "    </tr>\n",
       "    <tr>\n",
       "      <th>211</th>\n",
       "      <td>BsmtFinSF2</td>\n",
       "      <td>0.527</td>\n",
       "    </tr>\n",
       "    <tr>\n",
       "      <th>282</th>\n",
       "      <td>GarageCars^2</td>\n",
       "      <td>0.444</td>\n",
       "    </tr>\n",
       "    <tr>\n",
       "      <th>25</th>\n",
       "      <td>MSZoning_FV</td>\n",
       "      <td>0.421</td>\n",
       "    </tr>\n",
       "    <tr>\n",
       "      <th>27</th>\n",
       "      <td>MSZoning_RL</td>\n",
       "      <td>0.387</td>\n",
       "    </tr>\n",
       "    <tr>\n",
       "      <th>28</th>\n",
       "      <td>MSZoning_RM</td>\n",
       "      <td>0.370</td>\n",
       "    </tr>\n",
       "    <tr>\n",
       "      <th>190</th>\n",
       "      <td>GarageCond_Po</td>\n",
       "      <td>0.365</td>\n",
       "    </tr>\n",
       "    <tr>\n",
       "      <th>213</th>\n",
       "      <td>TotalBsmtSF</td>\n",
       "      <td>0.333</td>\n",
       "    </tr>\n",
       "  </tbody>\n",
       "</table>\n",
       "</div>"
      ],
      "text/plain": [
       "                      features  coefficients\n",
       "208                LotFrontage         1.508\n",
       "26                 MSZoning_RH         0.649\n",
       "539  BsmtFullBath^2 GarageCars         0.576\n",
       "211                 BsmtFinSF2         0.527\n",
       "282               GarageCars^2         0.444\n",
       "25                 MSZoning_FV         0.421\n",
       "27                 MSZoning_RL         0.387\n",
       "28                 MSZoning_RM         0.370\n",
       "190              GarageCond_Po         0.365\n",
       "213                TotalBsmtSF         0.333"
      ]
     },
     "metadata": {},
     "output_type": "display_data"
    }
   ],
   "source": [
    "poly3_coef = pd.DataFrame({'features':poly3_reg.feature_names_in_, 'coefficients':np.round(poly3_reg.coef_[0],3)})\n",
    "l1_coef = pd.DataFrame({'features':lasso_reg.feature_names_in_, 'coefficients':np.round(lasso_reg.coef_,3)})\n",
    "l2_coef = pd.DataFrame({'features':ridge_reg.feature_names_in_, 'coefficients':np.round(ridge_reg.coef_[0],3)})\n",
    "\n",
    "print('Top 10 highly correlated features in Linear Regression:')\n",
    "display(poly3_coef.sort_values(['coefficients'], ascending=False).iloc[:10])\n",
    "print('Top 10 highly correlated features in LASSO Regression:')\n",
    "display(l1_coef.sort_values(['coefficients'], ascending=False).iloc[:10])\n",
    "print('Top 10 highly correlated features in RIDGE Regression:')\n",
    "display(l2_coef.sort_values(['coefficients'], ascending=False).iloc[:10])"
   ]
  },
  {
   "cell_type": "markdown",
   "metadata": {},
   "source": [
    "## Task-7 (2 pts): results interpretation and discussion"
   ]
  },
  {
   "cell_type": "markdown",
   "metadata": {
    "id": "b4NMJi2CoUPK"
   },
   "source": [
    "Write down your observations and thoughts after comparing the three models: **(1pts)**\n",
    "- hint:\n",
    "    - what is the difference between ridge (L2 penalty) and Lasso (L1 penalty)?\n",
    "    - explain how the two types of regularization affect coefficients and model performance"
   ]
  },
  {
   "cell_type": "markdown",
   "metadata": {},
   "source": [
    "<span style='color:green'>_**MY ANSWER:**_</span>\n",
    "\n",
    "- L1 penalty, or LASSO regularization, minimizes the sum of mean squared error and the product of a penalty parameter (lambda) and the sum of the absolute values of the coefficients. It encourages a sparse solution, effectively setting the coefficients of less important features to zero, thus performing feature selection. On the other hand, L2 penalty, or Ridge regularization, minimizes the sum of mean squared error and the product of a penalty parameter (lambda) and the sum of the squares of the coefficients. This does not result in sparse coefficients; instead, it reduces the magnitude of all coefficients uniformly, which helps in handling multicollinearity and model overfitting.\n",
    "\n",
    "- In this specific scenario, the LASSO regression's performance with a score of 0.89 suggests that it has successfully mitigated the overfitting present in the original polynomial regression model with degree 3. LASSO's inherent feature selection capability, which can shrink less important feature coefficients to zero, appears to have been effective in simplifying the model while retaining its predictive power. \r\n",
    "Conversely, the Ridge regression's exceptionally negative score of -118.856 is indicative of severe underperformance. This suggests that despite using the same alpha and tolerance values as the LASSO model, the Ridge model failed to address the overfitting issue and likely introduced significant bias into the predictions. The Ridge model's inability to eliminate irrelevant features, coupled with a possibly inappropriate alpha value, might have led to this poor outcome."
   ]
  },
  {
   "cell_type": "markdown",
   "metadata": {
    "id": "rcRROondn2ZO"
   },
   "source": [
    "When looking at the Lasso coefficients, which coefficients make the biggest change of decreasing to 0. Does this make sense in the context of the housing prices? Please write down your code to produce the given data frame. **(1pts)**"
   ]
  },
  {
   "cell_type": "markdown",
   "metadata": {},
   "source": [
    "<span style='color:green'>_**MY ANSWER:**_</span>\n",
    "\n",
    "- In reviewing the LASSO regression results, we observe that the coefficients for features with significant importance in the polynomial regression model, such as `BsmtFullBath`, `BsmtFullBath^2`, `GarageYrBlt`, `LotFrontage`, and `SaleCondition_Alloca` are reduced to zero. This might at first seem counterintuitive since these attributes are typically important in determining housing prices. This might suggest that within this specific model context and given the level of regularization applied, these variables either did not contribute additional predictive power or were deemed redundant alongside other correlated features. However, it is important to note that this does not mean these features are unimportant in all contexts, but rather, in the presence of other variables and under the regularization penalty of this LASSO model, they were not selected as significant predictors."
   ]
  },
  {
   "cell_type": "code",
   "execution_count": 226,
   "metadata": {
    "colab": {
     "base_uri": "https://localhost:8080/"
    },
    "executionInfo": {
     "elapsed": 163,
     "status": "ok",
     "timestamp": 1700348585533,
     "user": {
      "displayName": "Matt Bonci",
      "userId": "16342971815051466958"
     },
     "user_tz": 360
    },
    "id": "wHQIdYFD1J3X",
    "outputId": "e044a710-ea75-4376-94d2-65d024d7dcad"
   },
   "outputs": [
    {
     "data": {
      "text/html": [
       "<div>\n",
       "<style scoped>\n",
       "    .dataframe tbody tr th:only-of-type {\n",
       "        vertical-align: middle;\n",
       "    }\n",
       "\n",
       "    .dataframe tbody tr th {\n",
       "        vertical-align: top;\n",
       "    }\n",
       "\n",
       "    .dataframe thead th {\n",
       "        text-align: right;\n",
       "    }\n",
       "</style>\n",
       "<table border=\"1\" class=\"dataframe\">\n",
       "  <thead>\n",
       "    <tr style=\"text-align: right;\">\n",
       "      <th></th>\n",
       "      <th>features</th>\n",
       "      <th>poly3_coef</th>\n",
       "      <th>l1_coef</th>\n",
       "      <th>l2_coef</th>\n",
       "    </tr>\n",
       "  </thead>\n",
       "  <tbody>\n",
       "    <tr>\n",
       "      <th>214</th>\n",
       "      <td>BsmtFullBath</td>\n",
       "      <td>23.685</td>\n",
       "      <td>0.0</td>\n",
       "      <td>0.014</td>\n",
       "    </tr>\n",
       "    <tr>\n",
       "      <th>270</th>\n",
       "      <td>BsmtFullBath^2</td>\n",
       "      <td>23.635</td>\n",
       "      <td>-0.0</td>\n",
       "      <td>0.034</td>\n",
       "    </tr>\n",
       "    <tr>\n",
       "      <th>216</th>\n",
       "      <td>GarageYrBlt</td>\n",
       "      <td>4.100</td>\n",
       "      <td>0.0</td>\n",
       "      <td>0.316</td>\n",
       "    </tr>\n",
       "    <tr>\n",
       "      <th>208</th>\n",
       "      <td>LotFrontage</td>\n",
       "      <td>3.803</td>\n",
       "      <td>-0.0</td>\n",
       "      <td>1.508</td>\n",
       "    </tr>\n",
       "    <tr>\n",
       "      <th>466</th>\n",
       "      <td>BsmtFinSF2 TotalBsmtSF^2</td>\n",
       "      <td>2.445</td>\n",
       "      <td>-0.0</td>\n",
       "      <td>0.001</td>\n",
       "    </tr>\n",
       "    <tr>\n",
       "      <th>494</th>\n",
       "      <td>BsmtUnfSF TotalBsmtSF^2</td>\n",
       "      <td>2.132</td>\n",
       "      <td>-0.0</td>\n",
       "      <td>0.001</td>\n",
       "    </tr>\n",
       "    <tr>\n",
       "      <th>424</th>\n",
       "      <td>BsmtFinSF1 BsmtUnfSF TotalBsmtSF</td>\n",
       "      <td>1.860</td>\n",
       "      <td>-0.0</td>\n",
       "      <td>-0.005</td>\n",
       "    </tr>\n",
       "    <tr>\n",
       "      <th>203</th>\n",
       "      <td>SaleCondition_Alloca</td>\n",
       "      <td>1.790</td>\n",
       "      <td>-0.0</td>\n",
       "      <td>-0.629</td>\n",
       "    </tr>\n",
       "    <tr>\n",
       "      <th>409</th>\n",
       "      <td>BsmtFinSF1^2 TotalBsmtSF</td>\n",
       "      <td>1.747</td>\n",
       "      <td>0.0</td>\n",
       "      <td>-0.006</td>\n",
       "    </tr>\n",
       "    <tr>\n",
       "      <th>417</th>\n",
       "      <td>BsmtFinSF1 BsmtFinSF2 TotalBsmtSF</td>\n",
       "      <td>1.612</td>\n",
       "      <td>-0.0</td>\n",
       "      <td>-0.001</td>\n",
       "    </tr>\n",
       "  </tbody>\n",
       "</table>\n",
       "</div>"
      ],
      "text/plain": [
       "                              features  poly3_coef  l1_coef  l2_coef\n",
       "214                       BsmtFullBath      23.685      0.0    0.014\n",
       "270                     BsmtFullBath^2      23.635     -0.0    0.034\n",
       "216                        GarageYrBlt       4.100      0.0    0.316\n",
       "208                        LotFrontage       3.803     -0.0    1.508\n",
       "466           BsmtFinSF2 TotalBsmtSF^2       2.445     -0.0    0.001\n",
       "494            BsmtUnfSF TotalBsmtSF^2       2.132     -0.0    0.001\n",
       "424   BsmtFinSF1 BsmtUnfSF TotalBsmtSF       1.860     -0.0   -0.005\n",
       "203               SaleCondition_Alloca       1.790     -0.0   -0.629\n",
       "409           BsmtFinSF1^2 TotalBsmtSF       1.747      0.0   -0.006\n",
       "417  BsmtFinSF1 BsmtFinSF2 TotalBsmtSF       1.612     -0.0   -0.001"
      ]
     },
     "execution_count": 226,
     "metadata": {},
     "output_type": "execute_result"
    }
   ],
   "source": [
    "df_coef = pd.DataFrame({\n",
    "    'features':poly3_reg.feature_names_in_,\n",
    "    'poly3_coef':np.round(poly3_reg.coef_[0],3),\n",
    "    'l1_coef':np.round(lasso_reg.coef_,3),\n",
    "    'l2_coef':np.round(ridge_reg.coef_[0],3)\n",
    "})\n",
    "df_coef['l1_change'] = df_coef['poly3_coef'] - df_coef['l1_coef']\n",
    "df_zero_lasso = df_coef[df_coef['l1_coef']==0]\n",
    "df_zero_lasso_sorted = df_zero_lasso.sort_values(by='l1_change', ascending=False)\n",
    "df_zero_lasso_sorted[['features', 'poly3_coef', 'l1_coef', 'l2_coef']].head(10)"
   ]
  },
  {
   "cell_type": "markdown",
   "metadata": {
    "id": "STMkEEiV3UsQ"
   },
   "source": [
    "# Conclusion\n",
    "\n",
    "Now at the end of this problem set, you've sucessfully applied regression classification to model the sale price of homes. \n",
    "- First, you began by cleaning and engineering the feature and target variables. \n",
    "- Next, you modeled the data using various techniques (polynomial transformation), including two commonly used regularization methods (L1 and L2). In the best model, you should have achieved an accuracy of nearly 90%!\n",
    "- Lastly, this was all done in a social science setting. \n",
    "    - The results are meaningful in the sense that you're now better able to understand the determinants of housing prices in Ames, Iowa. \n",
    "    - Are these results generalizable to other housing markets in the US? That's beyond the scope of the data, but a question you could try to answer down the line using some of the skills developed from this work.\n"
   ]
  },
  {
   "cell_type": "markdown",
   "metadata": {},
   "source": [
    "# [Optional challenge 1: data type selection] \n",
    "- In the above process, we select a set of features with \"float\" data type, and apply polynomial transformation for them. However, there could be a more intelligent way to select features for polynomial transformation. \n",
    "- Please propose your strategy of selecting features and re-implement the above process to see if model performance change. \n",
    "- E.g., you can select a set of features based on your sense of their potential correlations with the target variable. Please provide your reasoning."
   ]
  },
  {
   "cell_type": "code",
   "execution_count": null,
   "metadata": {},
   "outputs": [],
   "source": []
  },
  {
   "cell_type": "markdown",
   "metadata": {
    "id": "4uXmGeOKyP_W"
   },
   "source": [
    "# [Optional challenge 2: code organization] \n",
    "- In the above code of generating polynomial feature matrix with degree=2 and degree=3, there are multiple repeated steps. From code efficiency perspective, we could write a function to better organize that. The following code provides a brief guide as a starting point, please fill in your implementation and feel free to make changes as needed, e.g.:\n",
    "    - change input parameters\n",
    "    - write extra helper functions "
   ]
  },
  {
   "cell_type": "code",
   "execution_count": null,
   "metadata": {},
   "outputs": [],
   "source": [
    "def gen_poly_features(poly_cols, degree):\n",
    "    \"\"\"\n",
    "    Generate polynomial features for the given poly_cols and degree\n",
    "\n",
    "    Inputs:\n",
    "        poly_cols: the columns/features selected for polynomial transformation\n",
    "        degree: the degree of polynomial transformation\n",
    "    \n",
    "    Returns: the generated polynomial feature matrix of the training and testing data\n",
    "    \"\"\"\n",
    "    \n",
    "    "
   ]
  },
  {
   "cell_type": "markdown",
   "metadata": {},
   "source": [
    "- After completing the above function, please apply it to re-implement the polynomial feature transformantion and model fitting, and confirm whether your new results are consistent with the existing results."
   ]
  },
  {
   "cell_type": "code",
   "execution_count": null,
   "metadata": {},
   "outputs": [],
   "source": []
  },
  {
   "cell_type": "markdown",
   "metadata": {},
   "source": [
    "# [Optional challenge 3: regression to classification] \n",
    "- In this task, we practiced several regression models to predict the sale price of houses. Similarly, we can convert this task to a binary classification task (e.g., binarize the house price) and fit a LogisticRegression classifier. Please practice it for your own interest."
   ]
  },
  {
   "cell_type": "code",
   "execution_count": null,
   "metadata": {},
   "outputs": [],
   "source": []
  },
  {
   "cell_type": "code",
   "execution_count": null,
   "metadata": {},
   "outputs": [],
   "source": []
  },
  {
   "cell_type": "code",
   "execution_count": null,
   "metadata": {},
   "outputs": [],
   "source": []
  }
 ],
 "metadata": {
  "colab": {
   "authorship_tag": "ABX9TyOmXlnmT9D0/SbeH0pleGpy",
   "provenance": []
  },
  "kernelspec": {
   "display_name": "Python 3 (ipykernel)",
   "language": "python",
   "name": "python3"
  },
  "language_info": {
   "codemirror_mode": {
    "name": "ipython",
    "version": 3
   },
   "file_extension": ".py",
   "mimetype": "text/x-python",
   "name": "python",
   "nbconvert_exporter": "python",
   "pygments_lexer": "ipython3",
   "version": "3.11.5"
  },
  "toc": {
   "base_numbering": 1,
   "nav_menu": {},
   "number_sections": true,
   "sideBar": true,
   "skip_h1_title": false,
   "title_cell": "Table of Contents",
   "title_sidebar": "Contents",
   "toc_cell": false,
   "toc_position": {},
   "toc_section_display": true,
   "toc_window_display": false
  }
 },
 "nbformat": 4,
 "nbformat_minor": 4
}
