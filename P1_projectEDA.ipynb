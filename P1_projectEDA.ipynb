{
 "cells": [
  {
   "cell_type": "markdown",
   "id": "cdb6f356-23da-48a3-bf9b-0f9c1e1607f9",
   "metadata": {},
   "source": [
    "## **1. Exploratory Data Analysis**"
   ]
  },
  {
   "cell_type": "code",
   "execution_count": 1,
   "id": "af56d67a-953a-4142-8967-9c004cecaeee",
   "metadata": {},
   "outputs": [],
   "source": [
    "import pandas as pd\n",
    "import numpy as np\n",
    "import sklearn"
   ]
  },
  {
   "cell_type": "markdown",
   "id": "25c151f5-fabd-4789-b4c7-ce3655e5dabc",
   "metadata": {},
   "source": [
    "### 1.1 Understand the Dataset"
   ]
  },
  {
   "cell_type": "code",
   "execution_count": 26,
   "id": "5d6a636b-01ed-407d-81bd-252e640cf595",
   "metadata": {},
   "outputs": [
    {
     "data": {
      "text/plain": [
       "(165034, 14)"
      ]
     },
     "execution_count": 26,
     "metadata": {},
     "output_type": "execute_result"
    }
   ],
   "source": [
    "# Load the dataset\n",
    "df = pd.read_csv('bank churn.csv')\n",
    "\n",
    "# Examine the dimension of the dataset\n",
    "df.shape"
   ]
  },
  {
   "cell_type": "markdown",
   "id": "293f7cf4-0bed-4f3b-bcb4-5fa767465a04",
   "metadata": {},
   "source": [
    "The dataset contains more than 160,000 rows, which is quite enough to build a machine learning model. It has 14 columns, 10 of which (`CreditScore`, `Geography`, `Gender`, `Age`, `Tenure`, `Balance`, `NumOfProducts`, `HasCrCard`, `IsActiveMember`, `EstimatedSalary`) are useful features and one of them is the target variable `Exited` indicating whether the customer has exited the bank or not."
   ]
  },
  {
   "cell_type": "code",
   "execution_count": 3,
   "id": "c0dcaf0c-9c58-4a9d-b17a-38eb9c68c4d7",
   "metadata": {},
   "outputs": [
    {
     "data": {
      "text/html": [
       "<div>\n",
       "<style scoped>\n",
       "    .dataframe tbody tr th:only-of-type {\n",
       "        vertical-align: middle;\n",
       "    }\n",
       "\n",
       "    .dataframe tbody tr th {\n",
       "        vertical-align: top;\n",
       "    }\n",
       "\n",
       "    .dataframe thead th {\n",
       "        text-align: right;\n",
       "    }\n",
       "</style>\n",
       "<table border=\"1\" class=\"dataframe\">\n",
       "  <thead>\n",
       "    <tr style=\"text-align: right;\">\n",
       "      <th></th>\n",
       "      <th>id</th>\n",
       "      <th>CustomerId</th>\n",
       "      <th>Surname</th>\n",
       "      <th>CreditScore</th>\n",
       "      <th>Geography</th>\n",
       "      <th>Gender</th>\n",
       "      <th>Age</th>\n",
       "      <th>Tenure</th>\n",
       "      <th>Balance</th>\n",
       "      <th>NumOfProducts</th>\n",
       "      <th>HasCrCard</th>\n",
       "      <th>IsActiveMember</th>\n",
       "      <th>EstimatedSalary</th>\n",
       "      <th>Exited</th>\n",
       "    </tr>\n",
       "  </thead>\n",
       "  <tbody>\n",
       "    <tr>\n",
       "      <th>0</th>\n",
       "      <td>0</td>\n",
       "      <td>15674932</td>\n",
       "      <td>Okwudilichukwu</td>\n",
       "      <td>668</td>\n",
       "      <td>France</td>\n",
       "      <td>Male</td>\n",
       "      <td>33.0</td>\n",
       "      <td>3</td>\n",
       "      <td>0.00</td>\n",
       "      <td>2</td>\n",
       "      <td>1</td>\n",
       "      <td>0</td>\n",
       "      <td>181449.97</td>\n",
       "      <td>0</td>\n",
       "    </tr>\n",
       "    <tr>\n",
       "      <th>1</th>\n",
       "      <td>1</td>\n",
       "      <td>15749177</td>\n",
       "      <td>Okwudiliolisa</td>\n",
       "      <td>627</td>\n",
       "      <td>France</td>\n",
       "      <td>Male</td>\n",
       "      <td>33.0</td>\n",
       "      <td>1</td>\n",
       "      <td>0.00</td>\n",
       "      <td>2</td>\n",
       "      <td>1</td>\n",
       "      <td>1</td>\n",
       "      <td>49503.50</td>\n",
       "      <td>0</td>\n",
       "    </tr>\n",
       "    <tr>\n",
       "      <th>2</th>\n",
       "      <td>2</td>\n",
       "      <td>15694510</td>\n",
       "      <td>Hsueh</td>\n",
       "      <td>678</td>\n",
       "      <td>France</td>\n",
       "      <td>Male</td>\n",
       "      <td>40.0</td>\n",
       "      <td>10</td>\n",
       "      <td>0.00</td>\n",
       "      <td>2</td>\n",
       "      <td>1</td>\n",
       "      <td>0</td>\n",
       "      <td>184866.69</td>\n",
       "      <td>0</td>\n",
       "    </tr>\n",
       "    <tr>\n",
       "      <th>3</th>\n",
       "      <td>3</td>\n",
       "      <td>15741417</td>\n",
       "      <td>Kao</td>\n",
       "      <td>581</td>\n",
       "      <td>France</td>\n",
       "      <td>Male</td>\n",
       "      <td>34.0</td>\n",
       "      <td>2</td>\n",
       "      <td>148882.54</td>\n",
       "      <td>1</td>\n",
       "      <td>1</td>\n",
       "      <td>1</td>\n",
       "      <td>84560.88</td>\n",
       "      <td>0</td>\n",
       "    </tr>\n",
       "    <tr>\n",
       "      <th>4</th>\n",
       "      <td>4</td>\n",
       "      <td>15766172</td>\n",
       "      <td>Chiemenam</td>\n",
       "      <td>716</td>\n",
       "      <td>Spain</td>\n",
       "      <td>Male</td>\n",
       "      <td>33.0</td>\n",
       "      <td>5</td>\n",
       "      <td>0.00</td>\n",
       "      <td>2</td>\n",
       "      <td>1</td>\n",
       "      <td>1</td>\n",
       "      <td>15068.83</td>\n",
       "      <td>0</td>\n",
       "    </tr>\n",
       "    <tr>\n",
       "      <th>5</th>\n",
       "      <td>5</td>\n",
       "      <td>15771669</td>\n",
       "      <td>Genovese</td>\n",
       "      <td>588</td>\n",
       "      <td>Germany</td>\n",
       "      <td>Male</td>\n",
       "      <td>36.0</td>\n",
       "      <td>4</td>\n",
       "      <td>131778.58</td>\n",
       "      <td>1</td>\n",
       "      <td>1</td>\n",
       "      <td>0</td>\n",
       "      <td>136024.31</td>\n",
       "      <td>1</td>\n",
       "    </tr>\n",
       "    <tr>\n",
       "      <th>6</th>\n",
       "      <td>6</td>\n",
       "      <td>15692819</td>\n",
       "      <td>Ch'ang</td>\n",
       "      <td>593</td>\n",
       "      <td>France</td>\n",
       "      <td>Female</td>\n",
       "      <td>30.0</td>\n",
       "      <td>8</td>\n",
       "      <td>144772.69</td>\n",
       "      <td>1</td>\n",
       "      <td>1</td>\n",
       "      <td>0</td>\n",
       "      <td>29792.11</td>\n",
       "      <td>0</td>\n",
       "    </tr>\n",
       "    <tr>\n",
       "      <th>7</th>\n",
       "      <td>7</td>\n",
       "      <td>15669611</td>\n",
       "      <td>Chukwuebuka</td>\n",
       "      <td>678</td>\n",
       "      <td>Spain</td>\n",
       "      <td>Male</td>\n",
       "      <td>37.0</td>\n",
       "      <td>1</td>\n",
       "      <td>138476.41</td>\n",
       "      <td>1</td>\n",
       "      <td>1</td>\n",
       "      <td>0</td>\n",
       "      <td>106851.60</td>\n",
       "      <td>0</td>\n",
       "    </tr>\n",
       "    <tr>\n",
       "      <th>8</th>\n",
       "      <td>8</td>\n",
       "      <td>15691707</td>\n",
       "      <td>Manna</td>\n",
       "      <td>676</td>\n",
       "      <td>France</td>\n",
       "      <td>Male</td>\n",
       "      <td>43.0</td>\n",
       "      <td>4</td>\n",
       "      <td>0.00</td>\n",
       "      <td>2</td>\n",
       "      <td>1</td>\n",
       "      <td>0</td>\n",
       "      <td>142917.13</td>\n",
       "      <td>0</td>\n",
       "    </tr>\n",
       "    <tr>\n",
       "      <th>9</th>\n",
       "      <td>9</td>\n",
       "      <td>15591721</td>\n",
       "      <td>Cattaneo</td>\n",
       "      <td>583</td>\n",
       "      <td>Germany</td>\n",
       "      <td>Male</td>\n",
       "      <td>40.0</td>\n",
       "      <td>4</td>\n",
       "      <td>81274.33</td>\n",
       "      <td>1</td>\n",
       "      <td>1</td>\n",
       "      <td>1</td>\n",
       "      <td>170843.07</td>\n",
       "      <td>0</td>\n",
       "    </tr>\n",
       "  </tbody>\n",
       "</table>\n",
       "</div>"
      ],
      "text/plain": [
       "   id  CustomerId         Surname  CreditScore Geography  Gender   Age  \\\n",
       "0   0    15674932  Okwudilichukwu          668    France    Male  33.0   \n",
       "1   1    15749177   Okwudiliolisa          627    France    Male  33.0   \n",
       "2   2    15694510           Hsueh          678    France    Male  40.0   \n",
       "3   3    15741417             Kao          581    France    Male  34.0   \n",
       "4   4    15766172       Chiemenam          716     Spain    Male  33.0   \n",
       "5   5    15771669        Genovese          588   Germany    Male  36.0   \n",
       "6   6    15692819          Ch'ang          593    France  Female  30.0   \n",
       "7   7    15669611     Chukwuebuka          678     Spain    Male  37.0   \n",
       "8   8    15691707           Manna          676    France    Male  43.0   \n",
       "9   9    15591721        Cattaneo          583   Germany    Male  40.0   \n",
       "\n",
       "   Tenure    Balance  NumOfProducts  HasCrCard  IsActiveMember  \\\n",
       "0       3       0.00              2          1               0   \n",
       "1       1       0.00              2          1               1   \n",
       "2      10       0.00              2          1               0   \n",
       "3       2  148882.54              1          1               1   \n",
       "4       5       0.00              2          1               1   \n",
       "5       4  131778.58              1          1               0   \n",
       "6       8  144772.69              1          1               0   \n",
       "7       1  138476.41              1          1               0   \n",
       "8       4       0.00              2          1               0   \n",
       "9       4   81274.33              1          1               1   \n",
       "\n",
       "   EstimatedSalary  Exited  \n",
       "0        181449.97       0  \n",
       "1         49503.50       0  \n",
       "2        184866.69       0  \n",
       "3         84560.88       0  \n",
       "4         15068.83       0  \n",
       "5        136024.31       1  \n",
       "6         29792.11       0  \n",
       "7        106851.60       0  \n",
       "8        142917.13       0  \n",
       "9        170843.07       0  "
      ]
     },
     "execution_count": 3,
     "metadata": {},
     "output_type": "execute_result"
    }
   ],
   "source": [
    "# Examine top 10 rows of the dataset\n",
    "df.head(10)"
   ]
  },
  {
   "cell_type": "code",
   "execution_count": 4,
   "id": "4a319614-650b-4c0a-9bcb-ecc27a067369",
   "metadata": {},
   "outputs": [
    {
     "data": {
      "text/plain": [
       "id                   int64\n",
       "CustomerId           int64\n",
       "Surname             object\n",
       "CreditScore          int64\n",
       "Geography           object\n",
       "Gender              object\n",
       "Age                float64\n",
       "Tenure               int64\n",
       "Balance            float64\n",
       "NumOfProducts        int64\n",
       "HasCrCard            int64\n",
       "IsActiveMember       int64\n",
       "EstimatedSalary    float64\n",
       "Exited               int64\n",
       "dtype: object"
      ]
     },
     "execution_count": 4,
     "metadata": {},
     "output_type": "execute_result"
    }
   ],
   "source": [
    "# check the data types: columns with mixed types are stored with the object dtype.\n",
    "df.dtypes"
   ]
  },
  {
   "cell_type": "markdown",
   "id": "6d3aabda-b7fd-471c-9d7a-acc3574cf7e5",
   "metadata": {},
   "source": [
    "The feature types are what we would normally expect. Numerical features include: `CreditScore`, `Age`, `Tenure`, `Balance`, `NumOfProducts`, `EstimatedSalary`. Categorical features include: `Geography`, `Gender`, `HasCrCard`, `IsActiveMember`. In these categorical features, `HasCrCard` and `IsActiveMember` are already in encoded format."
   ]
  },
  {
   "cell_type": "markdown",
   "id": "1d419611-5487-4817-8083-5a60703d0d72",
   "metadata": {},
   "source": [
    "## 1.2 Data Cleaning"
   ]
  },
  {
   "cell_type": "code",
   "execution_count": 5,
   "id": "4936ac71-b546-4fc7-9f22-4270b318f5de",
   "metadata": {},
   "outputs": [
    {
     "data": {
      "text/plain": [
       "id                 0\n",
       "CustomerId         0\n",
       "Surname            0\n",
       "CreditScore        0\n",
       "Geography          0\n",
       "Gender             0\n",
       "Age                0\n",
       "Tenure             0\n",
       "Balance            0\n",
       "NumOfProducts      0\n",
       "HasCrCard          0\n",
       "IsActiveMember     0\n",
       "EstimatedSalary    0\n",
       "Exited             0\n",
       "dtype: int64"
      ]
     },
     "execution_count": 5,
     "metadata": {},
     "output_type": "execute_result"
    }
   ],
   "source": [
    "# Check missing values\n",
    "null_sum = df.isnull().sum()\n",
    "null_sum"
   ]
  },
  {
   "cell_type": "markdown",
   "id": "7b9c8cbe-67eb-4d68-b855-d3d61298b852",
   "metadata": {},
   "source": [
    "There is no missing values in this dataset, as observed from the above result and described from the original source: https://www.kaggle.com/competitions/playground-series-s4e1/data.\n",
    "\n",
    "This dataset is generated from a deep learning model trained on the original \"Bank Customer Churn Prediction\" dataset from Kaggle."
   ]
  },
  {
   "cell_type": "markdown",
   "id": "70752a3a-9c2a-4fe0-99e3-1c6c98269a08",
   "metadata": {},
   "source": [
    "### 1.3 Detect Outliers"
   ]
  },
  {
   "cell_type": "markdown",
   "id": "1bb99d41-87f0-4b8d-a288-9ca6cece81f9",
   "metadata": {},
   "source": [
    "#### 1.3.1 Categorical Variables"
   ]
  },
  {
   "cell_type": "code",
   "execution_count": 6,
   "id": "e446c1f2-e8f6-44e6-a1de-8f23effe23a7",
   "metadata": {},
   "outputs": [
    {
     "data": {
      "text/plain": [
       "Geography\n",
       "France     94215\n",
       "Spain      36213\n",
       "Germany    34606\n",
       "Name: count, dtype: int64"
      ]
     },
     "execution_count": 6,
     "metadata": {},
     "output_type": "execute_result"
    }
   ],
   "source": [
    "# count the #samples fall into each category\n",
    "df['Geography'].value_counts()"
   ]
  },
  {
   "cell_type": "markdown",
   "id": "6a619d88-6e89-4816-9971-29f0ae1fb2e0",
   "metadata": {},
   "source": [
    "A larger amount of customers are located in France, while the number of customers located in Spain and Germany are very close."
   ]
  },
  {
   "cell_type": "code",
   "execution_count": 7,
   "id": "73de6b77-35c9-46b8-828f-990835ca1657",
   "metadata": {},
   "outputs": [
    {
     "data": {
      "text/plain": [
       "Gender\n",
       "Male      93150\n",
       "Female    71884\n",
       "Name: count, dtype: int64"
      ]
     },
     "execution_count": 7,
     "metadata": {},
     "output_type": "execute_result"
    }
   ],
   "source": [
    "# count the #samples fall into each category\n",
    "df['Gender'].value_counts() "
   ]
  },
  {
   "cell_type": "markdown",
   "id": "e9d1dac5-c37a-43c2-8570-8ca0492e4c33",
   "metadata": {},
   "source": [
    "There are more male observations than female observations. This could be useful as one of the possible reasons for model performance in later stages."
   ]
  },
  {
   "cell_type": "code",
   "execution_count": 8,
   "id": "a6ab80f6-809f-4155-ae69-4af859e46fe2",
   "metadata": {},
   "outputs": [
    {
     "data": {
      "text/plain": [
       "HasCrCard\n",
       "1    124428\n",
       "0     40606\n",
       "Name: count, dtype: int64"
      ]
     },
     "execution_count": 8,
     "metadata": {},
     "output_type": "execute_result"
    }
   ],
   "source": [
    "# count the #samples fall into each category\n",
    "df['HasCrCard'].value_counts()"
   ]
  },
  {
   "cell_type": "markdown",
   "id": "e115cf0f-4527-47c5-8ea9-6dababeabaa4",
   "metadata": {},
   "source": [
    "Around 75% of the customers do have a credit card."
   ]
  },
  {
   "cell_type": "code",
   "execution_count": 9,
   "id": "3dc0e567-3a00-4fd3-b1a5-113c3fde4576",
   "metadata": {},
   "outputs": [
    {
     "data": {
      "text/plain": [
       "IsActiveMember\n",
       "0    82885\n",
       "1    82149\n",
       "Name: count, dtype: int64"
      ]
     },
     "execution_count": 9,
     "metadata": {},
     "output_type": "execute_result"
    }
   ],
   "source": [
    "# count the #samples fall into each category\n",
    "df['IsActiveMember'].value_counts()"
   ]
  },
  {
   "cell_type": "markdown",
   "id": "5f803587-65c0-48a0-b8ce-ba61e13f51d1",
   "metadata": {},
   "source": [
    "The distribution for whether the customer is an active member is quite even."
   ]
  },
  {
   "cell_type": "code",
   "execution_count": 10,
   "id": "b748b149-8095-4a84-a1ce-a47e9485fd03",
   "metadata": {},
   "outputs": [
    {
     "data": {
      "image/png": "[encoded data removed]",
      "text/plain": [
       "<Figure size 600x400 with 4 Axes>"
      ]
     },
     "metadata": {},
     "output_type": "display_data"
    }
   ],
   "source": [
    "import matplotlib.pyplot as plt\n",
    "\n",
    "# Create a 2x2 grid of axes\n",
    "fig, axs = plt.subplots(2, 2, figsize=(6, 4))  # You can adjust the figsize to fit your display\n",
    "\n",
    "# Plot on each subplot\n",
    "axs[0, 0].bar(df['Geography'].value_counts().index, df['Geography'].value_counts().values)\n",
    "axs[0, 0].set_title('Geography Value Counts')\n",
    "axs[0, 0].set_xlabel('Geography')\n",
    "axs[0, 0].set_ylabel('Counts')\n",
    "\n",
    "axs[0, 1].bar(df['Gender'].value_counts().index, df['Gender'].value_counts().values)\n",
    "axs[0, 1].set_title('Gender Value Counts')\n",
    "axs[0, 1].set_xlabel('Gender')\n",
    "axs[0, 1].set_ylabel('Counts')\n",
    "\n",
    "axs[1, 0].bar(df['HasCrCard'].value_counts().index.astype(str), df['HasCrCard'].value_counts().values)\n",
    "axs[1, 0].set_title('Has Credit Card Value Counts')\n",
    "axs[1, 0].set_xlabel('Has Credit Card')\n",
    "axs[1, 0].set_ylabel('Counts')\n",
    "\n",
    "axs[1, 1].bar(df['IsActiveMember'].value_counts().index.astype(str), df['IsActiveMember'].value_counts().values)\n",
    "axs[1, 1].set_title('Is Active Member Value Counts')\n",
    "axs[1, 1].set_xlabel('Is Active Member')\n",
    "axs[1, 1].set_ylabel('Counts')\n",
    "\n",
    "# Adjust layout to prevent overlap\n",
    "plt.tight_layout()\n",
    "\n",
    "# Display the plot\n",
    "plt.show()\n"
   ]
  },
  {
   "cell_type": "markdown",
   "id": "8535ed51-dd0e-403d-82a2-16347f1f7801",
   "metadata": {},
   "source": [
    "Through visualizing the distribution of the categorical variables in the data frame, it is obvious to see there is no obvious outliers in those features."
   ]
  },
  {
   "cell_type": "markdown",
   "id": "bc919474-f5b2-4710-9daf-fe4eccf9ac98",
   "metadata": {},
   "source": [
    "#### 1.3.2 Numerical Variables"
   ]
  },
  {
   "cell_type": "code",
   "execution_count": 11,
   "id": "6d52cb6a-44c8-422e-882e-f094b9a28221",
   "metadata": {},
   "outputs": [
    {
     "data": {
      "text/plain": [
       "CreditScore\n",
       "850    2532\n",
       "678    2299\n",
       "684    1718\n",
       "667    1658\n",
       "705    1605\n",
       "       ... \n",
       "419       1\n",
       "386       1\n",
       "358       1\n",
       "423       1\n",
       "373       1\n",
       "Name: count, Length: 457, dtype: int64"
      ]
     },
     "execution_count": 11,
     "metadata": {},
     "output_type": "execute_result"
    }
   ],
   "source": [
    "# count the #samples fall into each category\n",
    "df['CreditScore'].value_counts()"
   ]
  },
  {
   "cell_type": "code",
   "execution_count": 12,
   "id": "c2e7b80d-00d5-4f25-b0ab-cb5b66286b9e",
   "metadata": {},
   "outputs": [
    {
     "data": {
      "text/plain": [
       "Age\n",
       "37.00    9255\n",
       "38.00    9246\n",
       "35.00    9118\n",
       "34.00    8625\n",
       "36.00    8556\n",
       "         ... \n",
       "84.00       4\n",
       "83.00       3\n",
       "85.00       3\n",
       "36.44       1\n",
       "32.34       1\n",
       "Name: count, Length: 71, dtype: int64"
      ]
     },
     "execution_count": 12,
     "metadata": {},
     "output_type": "execute_result"
    }
   ],
   "source": [
    "# count the #samples fall into each category\n",
    "df['Age'].value_counts()"
   ]
  },
  {
   "cell_type": "code",
   "execution_count": 13,
   "id": "786507f9-0b13-46de-a361-228ded4a29bc",
   "metadata": {},
   "outputs": [
    {
     "data": {
      "text/plain": [
       "Tenure\n",
       "2     18045\n",
       "7     17810\n",
       "4     17554\n",
       "8     17520\n",
       "5     17268\n",
       "1     16760\n",
       "9     16709\n",
       "3     16630\n",
       "6     15822\n",
       "10     5909\n",
       "0      5007\n",
       "Name: count, dtype: int64"
      ]
     },
     "execution_count": 13,
     "metadata": {},
     "output_type": "execute_result"
    }
   ],
   "source": [
    "# count the #samples fall into each category\n",
    "df['Tenure'].value_counts()"
   ]
  },
  {
   "cell_type": "code",
   "execution_count": 14,
   "id": "0801c9c0-f2bf-4d1b-9947-da3187f5d1df",
   "metadata": {},
   "outputs": [
    {
     "data": {
      "text/plain": [
       "Balance\n",
       "0.00         89648\n",
       "124577.33       88\n",
       "127864.40       64\n",
       "122314.50       63\n",
       "129855.32       59\n",
       "             ...  \n",
       "125824.21        1\n",
       "158741.56        1\n",
       "126815.52        1\n",
       "61172.57         1\n",
       "110993.29        1\n",
       "Name: count, Length: 30075, dtype: int64"
      ]
     },
     "execution_count": 14,
     "metadata": {},
     "output_type": "execute_result"
    }
   ],
   "source": [
    "# count the #samples fall into each category\n",
    "df['Balance'].value_counts()"
   ]
  },
  {
   "cell_type": "code",
   "execution_count": 15,
   "id": "4eda4d5e-3238-49ba-85c0-50b4ddb63949",
   "metadata": {},
   "outputs": [
    {
     "data": {
      "text/plain": [
       "NumOfProducts\n",
       "2    84291\n",
       "1    77374\n",
       "3     2894\n",
       "4      475\n",
       "Name: count, dtype: int64"
      ]
     },
     "execution_count": 15,
     "metadata": {},
     "output_type": "execute_result"
    }
   ],
   "source": [
    "# count the #samples fall into each category\n",
    "df['NumOfProducts'].value_counts()"
   ]
  },
  {
   "cell_type": "code",
   "execution_count": 16,
   "id": "63c66cf9-5a81-462f-8c35-eaaf3d8a3e0e",
   "metadata": {},
   "outputs": [
    {
     "data": {
      "text/plain": [
       "EstimatedSalary\n",
       "88890.05     178\n",
       "140941.47    107\n",
       "167984.72    100\n",
       "90876.95      98\n",
       "129964.94     98\n",
       "            ... \n",
       "102747.73      1\n",
       "170593.45      1\n",
       "109179.48      1\n",
       "60538.47       1\n",
       "71173.03       1\n",
       "Name: count, Length: 55298, dtype: int64"
      ]
     },
     "execution_count": 16,
     "metadata": {},
     "output_type": "execute_result"
    }
   ],
   "source": [
    "# count the #samples fall into each category\n",
    "df['EstimatedSalary'].value_counts()"
   ]
  },
  {
   "cell_type": "code",
   "execution_count": 21,
   "id": "011a6e56-c4d1-4add-9ab7-4cc19f3eb039",
   "metadata": {},
   "outputs": [
    {
     "data": {
      "image/png": "[encoded data removed]",
      "text/plain": [
       "<Figure size 1800x1000 with 6 Axes>"
      ]
     },
     "metadata": {},
     "output_type": "display_data"
    }
   ],
   "source": [
    "import matplotlib.pyplot as plt\n",
    "\n",
    "# Assuming df is your DataFrame and already defined.\n",
    "\n",
    "# Create a 2x3 grid of axes\n",
    "fig, axs = plt.subplots(2, 3, figsize=(18, 10))  # Adjust the figsize to better fit the display\n",
    "\n",
    "# Plot boxplot for CreditScore\n",
    "axs[0, 0].boxplot(df['CreditScore'].dropna(), patch_artist=True)  # dropna() removes missing values\n",
    "axs[0, 0].set_title('Credit Score Boxplot')\n",
    "axs[0, 0].set_ylabel('Credit Score')\n",
    "\n",
    "# Plot boxplot for Age\n",
    "axs[0, 1].boxplot(df['Age'].dropna(), patch_artist=True)\n",
    "axs[0, 1].set_title('Age Boxplot')\n",
    "axs[0, 1].set_ylabel('Age')\n",
    "\n",
    "# Plot boxplot for Tenure\n",
    "axs[0, 2].boxplot(df['Tenure'].dropna(), patch_artist=True)\n",
    "axs[0, 2].set_title('Tenure Boxplot')\n",
    "axs[0, 2].set_ylabel('Tenure')\n",
    "\n",
    "# Plot boxplot for Balance\n",
    "axs[1, 0].boxplot(df['Balance'].dropna(), patch_artist=True)\n",
    "axs[1, 0].set_title('Balance Boxplot')\n",
    "axs[1, 0].set_ylabel('Balance')\n",
    "\n",
    "# Plot boxplot for NumOfProducts\n",
    "axs[1, 1].boxplot(df['NumOfProducts'].dropna(), patch_artist=True)\n",
    "axs[1, 1].set_title('Number of Products Boxplot')\n",
    "axs[1, 1].set_ylabel('Number of Products')\n",
    "\n",
    "# Plot boxplot for EstimatedSalary\n",
    "axs[1, 2].boxplot(df['EstimatedSalary'].dropna(), patch_artist=True)\n",
    "axs[1, 2].set_title('Estimated Salary Boxplot')\n",
    "axs[1, 2].set_ylabel('Estimated Salary')\n",
    "\n",
    "# Adjust layout to prevent overlap\n",
    "plt.tight_layout()\n",
    "\n",
    "# Display the plot\n",
    "plt.show()\n"
   ]
  },
  {
   "cell_type": "code",
   "execution_count": 27,
   "id": "29666dd3-ff74-4da3-ac05-4fc4ce75939f",
   "metadata": {},
   "outputs": [],
   "source": [
    "def remove_outliers(df, column):\n",
    "    Q1 = df[column].quantile(0.25)\n",
    "    Q3 = df[column].quantile(0.75)\n",
    "    IQR = Q3 - Q1\n",
    "    lower_bound = Q1 - 1.5*IQR\n",
    "    upper_bound = Q3 + 1.5*IQR\n",
    "    return df[(df[column] >= lower_bound) & (df[column] <= upper_bound)]\n",
    "\n",
    "# Applying to multiple columns in df\n",
    "columns_to_filter = ['CreditScore', 'Age']\n",
    "for col in columns_to_filter:\n",
    "    df = remove_outliers(df, col)"
   ]
  },
  {
   "cell_type": "code",
   "execution_count": 28,
   "id": "f1fea14e-b42c-466c-95da-d48135ddc68e",
   "metadata": {},
   "outputs": [
    {
     "data": {
      "text/plain": [
       "(158400, 14)"
      ]
     },
     "execution_count": 28,
     "metadata": {},
     "output_type": "execute_result"
    }
   ],
   "source": [
    "df.shape"
   ]
  },
  {
   "cell_type": "markdown",
   "id": "791b58d1-b7a7-49a1-9a66-c95649756cb4",
   "metadata": {},
   "source": [
    "The number of observations decrease to 158,400 from 165,034."
   ]
  },
  {
   "cell_type": "markdown",
   "id": "dab59525-ad16-4156-87de-fd044d841f16",
   "metadata": {},
   "source": [
    "### 1.3 Data Transformation and Feature Engineering"
   ]
  },
  {
   "cell_type": "markdown",
   "id": "c5d4d892-b859-4253-a10d-8caca46ba84d",
   "metadata": {},
   "source": [
    "#### 1.3.1 Group features by types"
   ]
  },
  {
   "cell_type": "code",
   "execution_count": null,
   "id": "65bea808-fbe7-4655-977e-3b1c672088fd",
   "metadata": {},
   "outputs": [],
   "source": []
  },
  {
   "cell_type": "markdown",
   "id": "5d213482-c9d4-4eaf-9abf-07d6136a27e3",
   "metadata": {},
   "source": [
    "#### 1.3.2 Numerical data: normalization/standardization"
   ]
  },
  {
   "cell_type": "code",
   "execution_count": null,
   "id": "7f271661-0d26-4c61-ba52-08eefe901b35",
   "metadata": {},
   "outputs": [],
   "source": []
  },
  {
   "cell_type": "markdown",
   "id": "6b07298a-5fe7-4adb-9400-bb8a8ec0b6df",
   "metadata": {},
   "source": [
    "#### 1.3.3 Categorical data: one-hot encoding, ordinal encoding"
   ]
  },
  {
   "cell_type": "code",
   "execution_count": null,
   "id": "f3a7edb1-ec54-4c61-bd10-27ad331d3590",
   "metadata": {},
   "outputs": [],
   "source": []
  },
  {
   "cell_type": "markdown",
   "id": "7d6ff703-a56d-4fe3-b683-ce5ae6c3bf6a",
   "metadata": {},
   "source": [
    "### 1.4 Statistical Summary"
   ]
  },
  {
   "cell_type": "markdown",
   "id": "a7a35ff2-603e-4c2e-9f00-7ab5d544fe38",
   "metadata": {},
   "source": [
    "#### 1.4.1 Basic statistics (mean, median, mode)"
   ]
  },
  {
   "cell_type": "code",
   "execution_count": null,
   "id": "26ab2f98-1cea-466f-8c6b-3d2ba9e79ecb",
   "metadata": {},
   "outputs": [],
   "source": []
  },
  {
   "cell_type": "markdown",
   "id": "798f6247-0f20-44d5-a3bb-60b50e62603d",
   "metadata": {},
   "source": [
    "#### 1.4.2 Visualization (scatter plot, histograms, boxplot, heatmap, etc)"
   ]
  },
  {
   "cell_type": "code",
   "execution_count": null,
   "id": "752734c1-5706-4649-afb6-11afaf706347",
   "metadata": {},
   "outputs": [],
   "source": []
  },
  {
   "cell_type": "markdown",
   "id": "f358a83e-7dc3-433c-9c30-2c553a009c58",
   "metadata": {},
   "source": [
    "### 1.5 Correlation Analysis"
   ]
  },
  {
   "cell_type": "code",
   "execution_count": null,
   "id": "1c735190-725a-4b47-893b-5a25b6921303",
   "metadata": {},
   "outputs": [],
   "source": []
  }
 ],
 "metadata": {
  "kernelspec": {
   "display_name": "Python 3 (ipykernel)",
   "language": "python",
   "name": "python3"
  },
  "language_info": {
   "codemirror_mode": {
    "name": "ipython",
    "version": 3
   },
   "file_extension": ".py",
   "mimetype": "text/x-python",
   "name": "python",
   "nbconvert_exporter": "python",
   "pygments_lexer": "ipython3",
   "version": "3.11.5"
  }
 },
 "nbformat": 4,
 "nbformat_minor": 5
}
